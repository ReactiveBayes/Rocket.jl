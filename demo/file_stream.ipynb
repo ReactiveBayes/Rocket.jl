{
 "cells": [
  {
   "cell_type": "code",
   "execution_count": 1,
   "metadata": {},
   "outputs": [],
   "source": [
    "using Rx\n",
    "using BenchmarkTools"
   ]
  },
  {
   "cell_type": "code",
   "execution_count": 2,
   "metadata": {},
   "outputs": [
    {
     "data": {
      "text/plain": [
       "Rx.SyncFileObservable(\"data\")"
      ]
     },
     "execution_count": 2,
     "metadata": {},
     "output_type": "execute_result"
    }
   ],
   "source": [
    "source = file(\"data\")"
   ]
  },
  {
   "cell_type": "code",
   "execution_count": 3,
   "metadata": {
    "scrolled": true
   },
   "outputs": [
    {
     "name": "stdout",
     "output_type": "stream",
     "text": [
      "H\n",
      "e\n",
      "l\n",
      "l\n",
      "o\n",
      ",\n",
      "w\n",
      "o\n",
      "r\n",
      "l\n",
      "d\n",
      "!\n"
     ]
    }
   ],
   "source": [
    "subscribe!(source, LambdaActor{String}(\n",
    "    on_next = (d) -> println(d)\n",
    "));"
   ]
  },
  {
   "cell_type": "code",
   "execution_count": 4,
   "metadata": {},
   "outputs": [
    {
     "name": "stdout",
     "output_type": "stream",
     "text": [
      "H\n",
      "E\n",
      "L\n",
      "L\n",
      "O\n",
      ",\n",
      "W\n",
      "O\n",
      "R\n",
      "L\n",
      "D\n",
      "!\n"
     ]
    }
   ],
   "source": [
    "subscribe!(source |> uppercase(), LambdaActor{String}(\n",
    "    on_next = (d) -> println(d)\n",
    "));"
   ]
  },
  {
   "cell_type": "code",
   "execution_count": 5,
   "metadata": {},
   "outputs": [
    {
     "name": "stdout",
     "output_type": "stream",
     "text": [
      "HELLO,WORLD!\n"
     ]
    }
   ],
   "source": [
    "subscribe!(source |> uppercase() |> reduce(String, *) |> map(String, reverse), LambdaActor{String}(\n",
    "    on_next = (d) -> println(d)\n",
    "));"
   ]
  },
  {
   "cell_type": "code",
   "execution_count": 6,
   "metadata": {},
   "outputs": [
    {
     "name": "stdout",
     "output_type": "stream",
     "text": [
      "h\n",
      "he\n",
      "hel\n",
      "hell\n",
      "hello\n",
      "hello,\n",
      "hello,w\n",
      "hello,wo\n",
      "hello,wor\n",
      "hello,worl\n",
      "hello,world\n",
      "hello,world!\n"
     ]
    }
   ],
   "source": [
    "subscribe!(source |> lowercase() |> scan(String, (s, c) -> c * s), LambdaActor{String}(\n",
    "    on_next = (d) -> println(d)\n",
    "));"
   ]
  },
  {
   "cell_type": "code",
   "execution_count": 7,
   "metadata": {},
   "outputs": [
    {
     "data": {
      "text/plain": [
       "regular_approach (generic function with 1 method)"
      ]
     },
     "execution_count": 7,
     "metadata": {},
     "output_type": "execute_result"
    }
   ],
   "source": [
    "function regular_approach()\n",
    "    source = open(\"data\", \"r\")\n",
    "    output = \"\"\n",
    "    for line in eachline(source)\n",
    "         output = output * line\n",
    "    end\n",
    "    close(source)\n",
    "    return uppercase(output)\n",
    "end"
   ]
  },
  {
   "cell_type": "code",
   "execution_count": 8,
   "metadata": {},
   "outputs": [
    {
     "data": {
      "text/plain": [
       "reactive_approach (generic function with 1 method)"
      ]
     },
     "execution_count": 8,
     "metadata": {},
     "output_type": "execute_result"
    }
   ],
   "source": [
    "mutable struct KeepActor <: NextActor{String}\n",
    "    value::String\n",
    "    \n",
    "    KeepActor() = new()\n",
    "end\n",
    "\n",
    "function Rx.on_next!(actor::KeepActor, data::String) \n",
    "     actor.value = data\n",
    "end\n",
    "\n",
    "@CreateReduceOperator(\"Concatenate\", String, String, (d, c) -> c * d)\n",
    "\n",
    "function reactive_approach()\n",
    "    source = file(\"data\")\n",
    "    keep = KeepActor()\n",
    "    subscribe!(source |> ConcatenateReduceOperator(\"\") |> uppercase(), keep);\n",
    "    return keep.value\n",
    "end"
   ]
  },
  {
   "cell_type": "code",
   "execution_count": 9,
   "metadata": {},
   "outputs": [
    {
     "data": {
      "text/plain": [
       "true"
      ]
     },
     "execution_count": 9,
     "metadata": {},
     "output_type": "execute_result"
    }
   ],
   "source": [
    "regular_approach() == reactive_approach()"
   ]
  },
  {
   "cell_type": "code",
   "execution_count": 10,
   "metadata": {},
   "outputs": [
    {
     "name": "stdout",
     "output_type": "stream",
     "text": [
      "  9.858 μs (54 allocations: 1.88 KiB)\n"
     ]
    }
   ],
   "source": [
    "@btime regular_approach();"
   ]
  },
  {
   "cell_type": "code",
   "execution_count": 11,
   "metadata": {},
   "outputs": [
    {
     "name": "stdout",
     "output_type": "stream",
     "text": [
      "  10.202 μs (61 allocations: 2.03 KiB)\n"
     ]
    }
   ],
   "source": [
    "@btime reactive_approach();"
   ]
  },
  {
   "cell_type": "code",
   "execution_count": null,
   "metadata": {},
   "outputs": [],
   "source": []
  }
 ],
 "metadata": {
  "kernelspec": {
   "display_name": "Julia 1.3.0",
   "language": "julia",
   "name": "julia-1.3"
  },
  "language_info": {
   "file_extension": ".jl",
   "mimetype": "application/julia",
   "name": "julia",
   "version": "1.3.0"
  }
 },
 "nbformat": 4,
 "nbformat_minor": 2
}
