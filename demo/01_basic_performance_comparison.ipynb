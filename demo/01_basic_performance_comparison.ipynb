{
 "cells": [
  {
   "cell_type": "code",
   "execution_count": 1,
   "metadata": {},
   "outputs": [
    {
     "name": "stderr",
     "output_type": "stream",
     "text": [
      "┌ Info: Precompiling BenchmarkTools [6e4b80f9-dd63-53aa-95a3-0cdb28fa8baf]\n",
      "└ @ Base loading.jl:1273\n"
     ]
    }
   ],
   "source": [
    "using Rocket\n",
    "using BenchmarkTools"
   ]
  },
  {
   "cell_type": "code",
   "execution_count": 2,
   "metadata": {},
   "outputs": [],
   "source": [
    "n = 500\n",
    "\n",
    "array      = collect(1:n)\n",
    "observable = from(array);"
   ]
  },
  {
   "cell_type": "code",
   "execution_count": 3,
   "metadata": {},
   "outputs": [
    {
     "data": {
      "text/plain": [
       "reactive (generic function with 2 methods)"
      ]
     },
     "execution_count": 3,
     "metadata": {},
     "output_type": "execute_result"
    }
   ],
   "source": [
    "reactive(source::S) where S = reactive(as_subscribable(S), source)\n",
    "\n",
    "function reactive(::ValidSubscribable{T}, source) where T\n",
    "    keep = KeepActor{T}()\n",
    "    subscribe!(source, keep)\n",
    "    return keep.values\n",
    "end"
   ]
  },
  {
   "cell_type": "markdown",
   "metadata": {},
   "source": [
    "# Map operator performance comparison"
   ]
  },
  {
   "cell_type": "code",
   "execution_count": 4,
   "metadata": {},
   "outputs": [
    {
     "name": "stdout",
     "output_type": "stream",
     "text": [
      "true\n",
      "true\n",
      "  3.066 μs (9 allocations: 8.33 KiB)\n",
      "  3.298 μs (11 allocations: 8.36 KiB)\n",
      "  23.748 μs (489 allocations: 15.84 KiB)\n"
     ]
    }
   ],
   "source": [
    "function regularArrayMap(source)\n",
    "    keep = Vector{Int}()\n",
    "    for v in source\n",
    "        push!(keep, v ^ 2)\n",
    "    end\n",
    "    return keep\n",
    "end\n",
    "\n",
    "@CreateMapOperator(SquaredInt, Int, Int, (d) -> d ^ 2)\n",
    "\n",
    "observable_mapped1 = observable |> SquaredIntMapOperator()\n",
    "observable_mapped2 = observable |> map(Int, (d) -> d ^ 2)\n",
    "\n",
    "println(regularArrayMap(array) == reactive(observable_mapped1))\n",
    "println(regularArrayMap(array) == reactive(observable_mapped2))\n",
    "\n",
    "@btime regularArrayMap($array);\n",
    "@btime reactive($observable_mapped1);\n",
    "@btime reactive($observable_mapped2);"
   ]
  },
  {
   "cell_type": "markdown",
   "metadata": {},
   "source": [
    "# Filter operator performance comparison"
   ]
  },
  {
   "cell_type": "code",
   "execution_count": 5,
   "metadata": {},
   "outputs": [
    {
     "name": "stdout",
     "output_type": "stream",
     "text": [
      "true\n",
      "true\n",
      "  1.844 μs (8 allocations: 4.27 KiB)\n",
      "  2.014 μs (10 allocations: 4.30 KiB)\n",
      "  9.715 μs (10 allocations: 4.31 KiB)\n"
     ]
    }
   ],
   "source": [
    "function regularArrayFilter(source)\n",
    "    keep   = Vector{Int}()\n",
    "    for v in source\n",
    "        if v % 2 == 0\n",
    "            push!(keep, v)\n",
    "        end\n",
    "    end\n",
    "    return keep\n",
    "end\n",
    "\n",
    "@CreateFilterOperator(EvenInt, Int, (d) -> d % 2 == 0)\n",
    "\n",
    "observable_filtered1 = observable |> EvenIntFilterOperator()\n",
    "observable_filtered2 = observable |> filter((d) -> d % 2 == 0)\n",
    "\n",
    "println(regularArrayFilter(array) == reactive(observable_filtered1))\n",
    "println(regularArrayFilter(array) == reactive(observable_filtered2))\n",
    "\n",
    "@btime regularArrayFilter($array);\n",
    "@btime reactive($observable_filtered1);\n",
    "@btime reactive($observable_filtered2);"
   ]
  },
  {
   "cell_type": "markdown",
   "metadata": {},
   "source": [
    "# Count operator performance comparison"
   ]
  },
  {
   "cell_type": "code",
   "execution_count": 6,
   "metadata": {},
   "outputs": [
    {
     "name": "stdout",
     "output_type": "stream",
     "text": [
      "true\n",
      "  50.543 ns (2 allocations: 128 bytes)\n",
      "  229.247 ns (4 allocations: 176 bytes)\n"
     ]
    }
   ],
   "source": [
    "function regularArrayCount(source)\n",
    "    keep    = Vector{Int}()\n",
    "    current = 0\n",
    "    for v in source\n",
    "        current += 1\n",
    "    end\n",
    "    push!(keep, current)\n",
    "    return keep\n",
    "end\n",
    "\n",
    "observable_counted = observable |> count()\n",
    "\n",
    "println(regularArrayCount(array) == reactive(observable_counted))\n",
    "\n",
    "@btime regularArrayCount($array);\n",
    "@btime reactive($observable_counted);"
   ]
  },
  {
   "cell_type": "markdown",
   "metadata": {},
   "source": [
    "# Enumerate operator performance comparison"
   ]
  },
  {
   "cell_type": "code",
   "execution_count": 7,
   "metadata": {},
   "outputs": [
    {
     "name": "stdout",
     "output_type": "stream",
     "text": [
      "true\n",
      "  3.515 μs (9 allocations: 16.34 KiB)\n",
      "  3.995 μs (11 allocations: 16.39 KiB)\n"
     ]
    }
   ],
   "source": [
    "function regularArrayEnumerate(source)\n",
    "    keep   = Vector{Tuple{Int, Int}}()\n",
    "    current = 1\n",
    "    for v in source\n",
    "        push!(keep, (v, current))\n",
    "        current += 1\n",
    "    end\n",
    "    return keep\n",
    "end\n",
    "\n",
    "observable_enumerated = observable |> enumerate()\n",
    "\n",
    "println(regularArrayEnumerate(array) == reactive(observable_enumerated))\n",
    "\n",
    "@btime regularArrayEnumerate($array);\n",
    "@btime reactive($observable_enumerated);"
   ]
  },
  {
   "cell_type": "markdown",
   "metadata": {},
   "source": [
    "# Scan operator performance comparison"
   ]
  },
  {
   "cell_type": "code",
   "execution_count": 8,
   "metadata": {},
   "outputs": [
    {
     "name": "stdout",
     "output_type": "stream",
     "text": [
      "true\n",
      "true\n",
      "  3.046 μs (9 allocations: 8.33 KiB)\n",
      "  3.520 μs (11 allocations: 8.38 KiB)\n",
      "  148.085 μs (1886 allocations: 37.69 KiB)\n"
     ]
    }
   ],
   "source": [
    "function regularArrayScan(source)\n",
    "    keep    = Vector{Int}()\n",
    "    current = 0\n",
    "    for v in source\n",
    "        current = current + v\n",
    "        push!(keep, current)\n",
    "    end\n",
    "    return keep\n",
    "end\n",
    "\n",
    "@CreateScanOperator(Sum, Int, Int, +)\n",
    "\n",
    "observable_scanned1 = observable |> SumScanOperator(0)\n",
    "observable_scanned2 = observable |> scan(Int, (d, c) -> d + c, 0)\n",
    "\n",
    "println(regularArrayScan(array) == reactive(observable_scanned1))\n",
    "println(regularArrayScan(array) == reactive(observable_scanned2))\n",
    "\n",
    "@btime regularArrayScan($array);\n",
    "@btime reactive($observable_scanned1);\n",
    "@btime reactive($observable_scanned2);"
   ]
  },
  {
   "cell_type": "markdown",
   "metadata": {},
   "source": [
    "# Reduce operator performance comparison"
   ]
  },
  {
   "cell_type": "code",
   "execution_count": 9,
   "metadata": {},
   "outputs": [
    {
     "name": "stdout",
     "output_type": "stream",
     "text": [
      "true\n",
      "true\n",
      "  81.169 ns (2 allocations: 128 bytes)\n",
      "  253.293 ns (4 allocations: 176 bytes)\n",
      "  135.869 μs (1879 allocations: 29.48 KiB)\n"
     ]
    }
   ],
   "source": [
    "function regularArrayReduce(source)\n",
    "    keep    = Vector{Int}()\n",
    "    current = 0\n",
    "    for v in source\n",
    "        current = current + v\n",
    "    end\n",
    "    push!(keep, current)\n",
    "    return keep\n",
    "end\n",
    "\n",
    "@CreateReduceOperator(Sum, Int, Int, +)\n",
    "\n",
    "observable_reduced1 = observable |> SumReduceOperator(0)\n",
    "observable_reduced2 = observable |> reduce(Int, (d, c) -> d + c, 0)\n",
    "\n",
    "println(regularArrayReduce(array) == reactive(observable_reduced1))\n",
    "println(regularArrayReduce(array) == reactive(observable_reduced2))\n",
    "\n",
    "@btime regularArrayReduce($array);\n",
    "@btime reactive($observable_reduced1);\n",
    "@btime reactive($observable_reduced2);"
   ]
  },
  {
   "cell_type": "markdown",
   "metadata": {},
   "source": [
    "# Max operator performance comparison"
   ]
  },
  {
   "cell_type": "code",
   "execution_count": 10,
   "metadata": {},
   "outputs": [
    {
     "name": "stdout",
     "output_type": "stream",
     "text": [
      "true\n",
      "  638.868 ns (2 allocations: 128 bytes)\n",
      "  928.188 ns (4 allocations: 176 bytes)\n"
     ]
    }
   ],
   "source": [
    "function regularArrayMax(source)\n",
    "    keep    = Vector{Int}()\n",
    "    current = nothing\n",
    "    for v in source\n",
    "        if current == nothing\n",
    "            current = v\n",
    "        else\n",
    "            if v > current\n",
    "                current = v\n",
    "            end\n",
    "        end\n",
    "    end\n",
    "    push!(keep, current)\n",
    "    return keep\n",
    "end\n",
    "\n",
    "observable_max = observable |> max()\n",
    "\n",
    "println(regularArrayMax(array) == reactive(observable_max))\n",
    "\n",
    "@btime regularArrayMax($array);\n",
    "@btime reactive($observable_max);"
   ]
  },
  {
   "cell_type": "markdown",
   "metadata": {},
   "source": [
    "# Min operator performance comparison"
   ]
  },
  {
   "cell_type": "code",
   "execution_count": 11,
   "metadata": {},
   "outputs": [
    {
     "name": "stdout",
     "output_type": "stream",
     "text": [
      "true\n",
      "  987.071 ns (2 allocations: 128 bytes)\n",
      "  975.800 ns (4 allocations: 176 bytes)\n"
     ]
    }
   ],
   "source": [
    "function regularArrayMin(source)\n",
    "    keep    = Vector{Int}()\n",
    "    current = nothing\n",
    "    for v in source\n",
    "        if current == nothing\n",
    "            current = v\n",
    "        else\n",
    "            if v < current\n",
    "                current = v\n",
    "            end\n",
    "        end\n",
    "    end\n",
    "    push!(keep, current)\n",
    "    return keep\n",
    "end\n",
    "\n",
    "observable_min = observable |> min()\n",
    "\n",
    "println(regularArrayMin(array) == reactive(observable_min))\n",
    "\n",
    "@btime regularArrayMin($array);\n",
    "@btime reactive($observable_min);"
   ]
  },
  {
   "cell_type": "markdown",
   "metadata": {},
   "source": [
    "# Sum operator performance comparison"
   ]
  },
  {
   "cell_type": "code",
   "execution_count": 12,
   "metadata": {},
   "outputs": [
    {
     "name": "stdout",
     "output_type": "stream",
     "text": [
      "true\n",
      "  637.774 ns (2 allocations: 128 bytes)\n",
      "  820.683 ns (4 allocations: 176 bytes)\n"
     ]
    }
   ],
   "source": [
    "function regularArraySum(source)\n",
    "    keep    = Vector{Int}()\n",
    "    current = nothing\n",
    "    for v in source\n",
    "        if current == nothing\n",
    "            current = v\n",
    "        else\n",
    "            current = current + v\n",
    "        end\n",
    "    end\n",
    "    push!(keep, current)\n",
    "    return keep\n",
    "end\n",
    "\n",
    "observable_sum = observable |> sum()\n",
    "\n",
    "println(regularArraySum(array) == reactive(observable_sum))\n",
    "\n",
    "@btime regularArraySum($array);\n",
    "@btime reactive($observable_sum);"
   ]
  },
  {
   "cell_type": "code",
   "execution_count": null,
   "metadata": {},
   "outputs": [],
   "source": []
  },
  {
   "cell_type": "code",
   "execution_count": null,
   "metadata": {},
   "outputs": [],
   "source": []
  }
 ],
 "metadata": {
  "kernelspec": {
   "display_name": "Julia 1.3.0",
   "language": "julia",
   "name": "julia-1.3"
  },
  "language_info": {
   "file_extension": ".jl",
   "mimetype": "application/julia",
   "name": "julia",
   "version": "1.3.1"
  }
 },
 "nbformat": 4,
 "nbformat_minor": 4
}
