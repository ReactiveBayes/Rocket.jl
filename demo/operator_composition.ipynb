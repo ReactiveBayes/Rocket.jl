{
 "cells": [
  {
   "cell_type": "code",
   "execution_count": 1,
   "metadata": {},
   "outputs": [
    {
     "name": "stderr",
     "output_type": "stream",
     "text": [
      "┌ Info: Precompiling Rx [df971d30-c9d6-4b37-b8ff-e965b2cb3a40]\n",
      "└ @ Base loading.jl:1273\n"
     ]
    }
   ],
   "source": [
    "using Rx\n",
    "using BenchmarkTools"
   ]
  },
  {
   "cell_type": "code",
   "execution_count": 2,
   "metadata": {},
   "outputs": [
    {
     "data": {
      "text/plain": [
       "standart_approach (generic function with 1 method)"
      ]
     },
     "execution_count": 2,
     "metadata": {},
     "output_type": "execute_result"
    }
   ],
   "source": [
    "function standart_approach(source)\n",
    "    output = Vector{Float64}()\n",
    "    for value in source\n",
    "        if value % 17 == 0\n",
    "            push!(output, sqrt(value))\n",
    "        end\n",
    "    end\n",
    "    return output\n",
    "end"
   ]
  },
  {
   "cell_type": "code",
   "execution_count": 3,
   "metadata": {},
   "outputs": [],
   "source": [
    "@CreateFilterOperator(Div17, Int, (d) -> d % 17 == 0)\n",
    "@CreateMapOperator(Sqrt, Int, Float64, (d) -> sqrt(d))"
   ]
  },
  {
   "cell_type": "code",
   "execution_count": 4,
   "metadata": {},
   "outputs": [],
   "source": [
    "mutable struct KeepLastActor{D} <: NextActor{D}\n",
    "    value :: Union{Nothing, D}\n",
    "    \n",
    "    KeepLastActor{D}() where D = new(nothing)\n",
    "end\n",
    "\n",
    "Rx.on_next!(actor::KeepLastActor{D}, data::D) where D = actor.value = data\n",
    "\n",
    "struct KeepActor{D} <: NextActor{D}\n",
    "    values :: Vector{D}\n",
    "    \n",
    "    KeepActor{D}() where D = new(Vector{D}())\n",
    "end\n",
    "\n",
    "Rx.on_next!(actor::KeepActor{D}, data::D) where D = push!(actor.values, data)"
   ]
  },
  {
   "cell_type": "code",
   "execution_count": 5,
   "metadata": {},
   "outputs": [
    {
     "data": {
      "text/plain": [
       "reactive_approach (generic function with 1 method)"
      ]
     },
     "execution_count": 5,
     "metadata": {},
     "output_type": "execute_result"
    }
   ],
   "source": [
    "function reactive_approach(source)\n",
    "    actor = KeepActor{Float64}()\n",
    "    subscribe!(source |> Div17FilterOperator() |>  SqrtMapOperator(), actor)\n",
    "    return actor.values\n",
    "end"
   ]
  },
  {
   "cell_type": "code",
   "execution_count": 6,
   "metadata": {},
   "outputs": [
    {
     "data": {
      "text/plain": [
       "true"
      ]
     },
     "execution_count": 6,
     "metadata": {},
     "output_type": "execute_result"
    }
   ],
   "source": [
    "standart_approach([i for i in 1:100]) == reactive_approach(from([i for i in 1:100]))"
   ]
  },
  {
   "cell_type": "code",
   "execution_count": 7,
   "metadata": {},
   "outputs": [
    {
     "name": "stdout",
     "output_type": "stream",
     "text": [
      "  1.531 ms (16 allocations: 1.00 MiB)\n",
      "  2.341 ms (21 allocations: 1.00 MiB)\n"
     ]
    }
   ],
   "source": [
    "n = 1000000\n",
    "\n",
    "source1 = [i for i in 1:n]\n",
    "source2 = from([i for i in 1:n])\n",
    "\n",
    "@btime standart_approach(source1);\n",
    "@btime reactive_approach(source2);"
   ]
  },
  {
   "cell_type": "code",
   "execution_count": null,
   "metadata": {},
   "outputs": [],
   "source": []
  }
 ],
 "metadata": {
  "kernelspec": {
   "display_name": "Julia 1.3.0",
   "language": "julia",
   "name": "julia-1.3"
  },
  "language_info": {
   "file_extension": ".jl",
   "mimetype": "application/julia",
   "name": "julia",
   "version": "1.3.0"
  }
 },
 "nbformat": 4,
 "nbformat_minor": 2
}
