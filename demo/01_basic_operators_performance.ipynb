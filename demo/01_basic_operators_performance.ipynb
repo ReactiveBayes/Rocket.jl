{
 "cells": [
  {
   "cell_type": "code",
   "execution_count": 1,
   "metadata": {},
   "outputs": [
    {
     "name": "stderr",
     "output_type": "stream",
     "text": [
      "┌ Info: Precompiling Rocket [df971d30-c9d6-4b37-b8ff-e965b2cb3a40]\n",
      "└ @ Base loading.jl:1260\n"
     ]
    }
   ],
   "source": [
    "using Rocket\n",
    "using BenchmarkTools"
   ]
  },
  {
   "cell_type": "code",
   "execution_count": 2,
   "metadata": {},
   "outputs": [],
   "source": [
    "n = 100000\n",
    "\n",
    "array      = collect(1:n)\n",
    "observable = from(array);"
   ]
  },
  {
   "cell_type": "code",
   "execution_count": 3,
   "metadata": {},
   "outputs": [
    {
     "data": {
      "text/plain": [
       "reactive (generic function with 2 methods)"
      ]
     },
     "execution_count": 3,
     "metadata": {},
     "output_type": "execute_result"
    }
   ],
   "source": [
    "reactive(source::S) where S = reactive(as_subscribable(S), source)\n",
    "\n",
    "function reactive(::ValidSubscribableTrait{T}, source) where T\n",
    "    keep = KeepActor{T}()\n",
    "    subscribe!(source, keep)\n",
    "    return keep.values\n",
    "end"
   ]
  },
  {
   "cell_type": "markdown",
   "metadata": {},
   "source": [
    "# Map operator performance comparison"
   ]
  },
  {
   "cell_type": "code",
   "execution_count": 4,
   "metadata": {},
   "outputs": [
    {
     "name": "stdout",
     "output_type": "stream",
     "text": [
      "true\n",
      "  684.602 μs (17 allocations: 2.00 MiB)\n",
      "  745.829 μs (19 allocations: 2.00 MiB)\n"
     ]
    }
   ],
   "source": [
    "function regularArrayMap(source)\n",
    "    keep = Vector{Int}()\n",
    "    for v in source\n",
    "        push!(keep, v ^ 2)\n",
    "    end\n",
    "    return keep\n",
    "end\n",
    "\n",
    "observable_mapped = observable |> map(Int, (d) -> d ^ 2)\n",
    "\n",
    "println(regularArrayMap(array) == reactive(observable_mapped))\n",
    "\n",
    "@btime regularArrayMap($array);\n",
    "@btime reactive($observable_mapped);"
   ]
  },
  {
   "cell_type": "markdown",
   "metadata": {},
   "source": [
    "# Filter operator performance comparison"
   ]
  },
  {
   "cell_type": "code",
   "execution_count": 5,
   "metadata": {},
   "outputs": [
    {
     "name": "stdout",
     "output_type": "stream",
     "text": [
      "true\n",
      "  343.231 μs (16 allocations: 1.00 MiB)\n",
      "  352.005 μs (18 allocations: 1.00 MiB)\n"
     ]
    }
   ],
   "source": [
    "function regularArrayFilter(source)\n",
    "    keep   = Vector{Int}()\n",
    "    for v in source\n",
    "        if v % 2 == 0\n",
    "            push!(keep, v)\n",
    "        end\n",
    "    end\n",
    "    return keep\n",
    "end\n",
    "\n",
    "observable_filtered = observable |> filter((d) -> d % 2 == 0)\n",
    "\n",
    "println(regularArrayFilter(array) == reactive(observable_filtered))\n",
    "\n",
    "@btime regularArrayFilter($array);\n",
    "@btime reactive($observable_filtered);"
   ]
  },
  {
   "cell_type": "markdown",
   "metadata": {},
   "source": [
    "# Enumerate operator performance comparison"
   ]
  },
  {
   "cell_type": "code",
   "execution_count": 7,
   "metadata": {},
   "outputs": [
    {
     "name": "stdout",
     "output_type": "stream",
     "text": [
      "true\n",
      "  913.417 μs (17 allocations: 3.00 MiB)\n",
      "  1.092 ms (20 allocations: 3.00 MiB)\n"
     ]
    }
   ],
   "source": [
    "function regularArrayEnumerate(source)\n",
    "    keep   = Vector{Tuple{Int, Int}}()\n",
    "    current = 1\n",
    "    for v in source\n",
    "        push!(keep, (v, current))\n",
    "        current += 1\n",
    "    end\n",
    "    return keep\n",
    "end\n",
    "\n",
    "observable_enumerated = observable |> enumerate()\n",
    "\n",
    "println(regularArrayEnumerate(array) == reactive(observable_enumerated))\n",
    "\n",
    "@btime regularArrayEnumerate($array);\n",
    "@btime reactive($observable_enumerated);"
   ]
  },
  {
   "cell_type": "markdown",
   "metadata": {},
   "source": [
    "# Scan operator performance comparison"
   ]
  },
  {
   "cell_type": "code",
   "execution_count": 8,
   "metadata": {},
   "outputs": [
    {
     "name": "stdout",
     "output_type": "stream",
     "text": [
      "true\n",
      "  712.510 μs (17 allocations: 2.00 MiB)\n",
      "  946.020 μs (20 allocations: 2.00 MiB)\n"
     ]
    }
   ],
   "source": [
    "function regularArrayScan(source, seed::Int)\n",
    "    keep    = Vector{Int}()\n",
    "    current = seed\n",
    "    for v in source\n",
    "        current = current + v\n",
    "        push!(keep, current)\n",
    "    end\n",
    "    return keep\n",
    "end\n",
    "\n",
    "observable_scanned = observable |> scan(Int, +, 0)\n",
    "\n",
    "println(regularArrayScan(array, 0) == reactive(observable_scanned))\n",
    "\n",
    "@btime regularArrayScan($array, $0);\n",
    "@btime reactive($observable_scanned);"
   ]
  },
  {
   "cell_type": "markdown",
   "metadata": {},
   "source": [
    "# Reduce operator performance comparison"
   ]
  },
  {
   "cell_type": "code",
   "execution_count": 13,
   "metadata": {},
   "outputs": [
    {
     "name": "stdout",
     "output_type": "stream",
     "text": [
      "true\n",
      "  11.556 μs (2 allocations: 128 bytes)\n",
      "  33.130 μs (5 allocations: 192 bytes)\n"
     ]
    }
   ],
   "source": [
    "function regularArrayReduce(source, seed::Int)\n",
    "    keep    = Vector{Int}()\n",
    "    current = seed\n",
    "    for v in source\n",
    "        current = current + v\n",
    "    end\n",
    "    push!(keep, current)\n",
    "    return keep\n",
    "end\n",
    "\n",
    "observable_reduced = observable |> reduce(Int, +, 0)\n",
    "\n",
    "println(regularArrayReduce(array, 0) == reactive(observable_reduced))\n",
    "\n",
    "@btime regularArrayReduce($array, $0);\n",
    "@btime reactive($observable_reduced);"
   ]
  },
  {
   "cell_type": "markdown",
   "metadata": {},
   "source": [
    "# Max operator performance comparison"
   ]
  },
  {
   "cell_type": "code",
   "execution_count": 14,
   "metadata": {},
   "outputs": [
    {
     "name": "stdout",
     "output_type": "stream",
     "text": [
      "true\n",
      "  186.626 μs (2 allocations: 128 bytes)\n",
      "  52.141 μs (5 allocations: 208 bytes)\n"
     ]
    }
   ],
   "source": [
    "function regularArrayMax(source)\n",
    "    keep    = Vector{Int}()\n",
    "    current = nothing::Union{Int, Nothing}\n",
    "    for v in source\n",
    "        if current == nothing\n",
    "            current = v\n",
    "        else\n",
    "            if v > current\n",
    "                current = v\n",
    "            end\n",
    "        end\n",
    "    end\n",
    "    push!(keep, current)\n",
    "    return keep\n",
    "end\n",
    "\n",
    "observable_max = observable |> max()\n",
    "\n",
    "println(regularArrayMax(array) == reactive(observable_max))\n",
    "\n",
    "@btime regularArrayMax($array);\n",
    "@btime reactive($observable_max);"
   ]
  },
  {
   "cell_type": "markdown",
   "metadata": {},
   "source": [
    "# Min operator performance comparison"
   ]
  },
  {
   "cell_type": "code",
   "execution_count": 15,
   "metadata": {},
   "outputs": [
    {
     "name": "stdout",
     "output_type": "stream",
     "text": [
      "true\n",
      "  209.930 μs (2 allocations: 128 bytes)\n",
      "  48.779 μs (5 allocations: 208 bytes)\n"
     ]
    }
   ],
   "source": [
    "function regularArrayMin(source)\n",
    "    keep    = Vector{Int}()\n",
    "    current = nothing::Union{Int, Nothing}\n",
    "    for v in source\n",
    "        if current == nothing\n",
    "            current = v\n",
    "        else\n",
    "            if v < current\n",
    "                current = v\n",
    "            end\n",
    "        end\n",
    "    end\n",
    "    push!(keep, current)\n",
    "    return keep\n",
    "end\n",
    "\n",
    "observable_min = observable |> min()\n",
    "\n",
    "println(regularArrayMin(array) == reactive(observable_min))\n",
    "\n",
    "@btime regularArrayMin($array);\n",
    "@btime reactive($observable_min);"
   ]
  },
  {
   "cell_type": "markdown",
   "metadata": {},
   "source": [
    "# Sum operator performance comparison"
   ]
  },
  {
   "cell_type": "code",
   "execution_count": 16,
   "metadata": {},
   "outputs": [
    {
     "name": "stdout",
     "output_type": "stream",
     "text": [
      "true\n",
      "  70.081 μs (2 allocations: 128 bytes)\n",
      "  141.775 μs (5 allocations: 208 bytes)\n"
     ]
    }
   ],
   "source": [
    "function regularArraySum(source)\n",
    "    keep    = Vector{Int}()\n",
    "    current = nothing::Union{Int, Nothing}\n",
    "    for v in source\n",
    "        if current == nothing\n",
    "            current = v\n",
    "        else\n",
    "            current = current + v\n",
    "        end\n",
    "    end\n",
    "    push!(keep, current)\n",
    "    return keep\n",
    "end\n",
    "\n",
    "observable_sum = observable |> sum()\n",
    "\n",
    "println(regularArraySum(array) == reactive(observable_sum))\n",
    "\n",
    "@btime regularArraySum($array);\n",
    "@btime reactive($observable_sum);"
   ]
  },
  {
   "cell_type": "code",
   "execution_count": null,
   "metadata": {},
   "outputs": [],
   "source": []
  },
  {
   "cell_type": "code",
   "execution_count": null,
   "metadata": {},
   "outputs": [],
   "source": []
  }
 ],
 "metadata": {
  "kernelspec": {
   "display_name": "Julia 1.4.1",
   "language": "julia",
   "name": "julia-1.4"
  },
  "language_info": {
   "file_extension": ".jl",
   "mimetype": "application/julia",
   "name": "julia",
   "version": "1.4.1"
  }
 },
 "nbformat": 4,
 "nbformat_minor": 4
}
