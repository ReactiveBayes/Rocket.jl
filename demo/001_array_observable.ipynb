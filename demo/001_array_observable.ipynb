{
 "cells": [
  {
   "cell_type": "code",
   "execution_count": 1,
   "metadata": {},
   "outputs": [
    {
     "name": "stderr",
     "output_type": "stream",
     "text": [
      "┌ Info: Precompiling Rx [df971d30-c9d6-4b37-b8ff-e965b2cb3a40]\n",
      "└ @ Base loading.jl:1273\n"
     ]
    }
   ],
   "source": [
    "using Rx\n",
    "using BenchmarkTools"
   ]
  },
  {
   "cell_type": "code",
   "execution_count": 2,
   "metadata": {},
   "outputs": [
    {
     "data": {
      "text/plain": [
       "regularArray (generic function with 1 method)"
      ]
     },
     "execution_count": 2,
     "metadata": {},
     "output_type": "execute_result"
    }
   ],
   "source": [
    "function regularArray()\n",
    "    source = [ i for i in 1:1000 ]\n",
    "    keep = Array{Int, 1}()\n",
    "    for value in source\n",
    "        push!(keep, value)\n",
    "    end\n",
    "    return keep\n",
    "end"
   ]
  },
  {
   "cell_type": "code",
   "execution_count": 3,
   "metadata": {},
   "outputs": [
    {
     "data": {
      "text/plain": [
       "observableWithKeepActor (generic function with 1 method)"
      ]
     },
     "execution_count": 3,
     "metadata": {},
     "output_type": "execute_result"
    }
   ],
   "source": [
    "struct KeepActor{D} <: NextActor{D}\n",
    "    values::Array{D, 1}\n",
    "    \n",
    "    KeepActor{D}() where D = new(Array{D, 1}())\n",
    "end\n",
    "\n",
    "Rx.on_next!(actor::KeepActor{D}, data::D) where D = push!(actor.values, data)\n",
    "\n",
    "function observableWithKeepActor()\n",
    "    source = from([ i for i in 1:1000 ])\n",
    "    keep = KeepActor{Int}()\n",
    "    subscribe!(source, keep)\n",
    "    return keep.values\n",
    "end"
   ]
  },
  {
   "cell_type": "code",
   "execution_count": 4,
   "metadata": {},
   "outputs": [
    {
     "data": {
      "text/plain": [
       "observableWithLambdaActor (generic function with 1 method)"
      ]
     },
     "execution_count": 4,
     "metadata": {},
     "output_type": "execute_result"
    }
   ],
   "source": [
    "function observableWithLambdaActor()\n",
    "    source = from([ i for i in 1:1000 ])\n",
    "    keep = Array{Int, 1}()\n",
    "    subscribe!(source, LambdaActor{Int}(\n",
    "        on_next = (d) -> push!(keep, d)\n",
    "    ))\n",
    "    return keep\n",
    "end"
   ]
  },
  {
   "cell_type": "code",
   "execution_count": 6,
   "metadata": {},
   "outputs": [
    {
     "name": "stdout",
     "output_type": "stream",
     "text": [
      "  6.722 μs (11 allocations: 24.33 KiB)\n",
      "  7.457 μs (13 allocations: 24.36 KiB)\n",
      "  398.160 μs (1992 allocations: 55.30 KiB)\n"
     ]
    }
   ],
   "source": [
    "@btime regularArray();\n",
    "@btime observableWithKeepActor();\n",
    "@btime observableWithLambdaActor();"
   ]
  },
  {
   "cell_type": "code",
   "execution_count": null,
   "metadata": {},
   "outputs": [],
   "source": []
  }
 ],
 "metadata": {
  "kernelspec": {
   "display_name": "Julia 1.3.0",
   "language": "julia",
   "name": "julia-1.3"
  },
  "language_info": {
   "file_extension": ".jl",
   "mimetype": "application/julia",
   "name": "julia",
   "version": "1.3.0"
  }
 },
 "nbformat": 4,
 "nbformat_minor": 2
}
