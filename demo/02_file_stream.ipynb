{
 "cells": [
  {
   "cell_type": "code",
   "execution_count": 1,
   "metadata": {},
   "outputs": [],
   "source": [
    "using Rocket\n",
    "using BenchmarkTools"
   ]
  },
  {
   "cell_type": "code",
   "execution_count": 2,
   "metadata": {},
   "outputs": [
    {
     "data": {
      "text/plain": [
       "SyncFileObservable()"
      ]
     },
     "execution_count": 2,
     "metadata": {},
     "output_type": "execute_result"
    }
   ],
   "source": [
    "source = file(\"data\")"
   ]
  },
  {
   "cell_type": "code",
   "execution_count": 3,
   "metadata": {
    "scrolled": true
   },
   "outputs": [
    {
     "name": "stdout",
     "output_type": "stream",
     "text": [
      "H\n",
      "e\n",
      "l\n",
      "l\n",
      "o\n",
      ",\n",
      "w\n",
      "o\n",
      "r\n",
      "l\n",
      "d\n",
      "!\n"
     ]
    }
   ],
   "source": [
    "subscribe!(source, (d) -> println(d));"
   ]
  },
  {
   "cell_type": "code",
   "execution_count": 4,
   "metadata": {},
   "outputs": [
    {
     "name": "stdout",
     "output_type": "stream",
     "text": [
      "H\n",
      "E\n",
      "L\n",
      "L\n",
      "O\n",
      ",\n",
      "W\n",
      "O\n",
      "R\n",
      "L\n",
      "D\n",
      "!\n"
     ]
    }
   ],
   "source": [
    "subscribe!(source |> uppercase(),(d) -> println(d));"
   ]
  },
  {
   "cell_type": "code",
   "execution_count": 5,
   "metadata": {},
   "outputs": [
    {
     "name": "stdout",
     "output_type": "stream",
     "text": [
      "HELLO,WORLD!\n"
     ]
    }
   ],
   "source": [
    "subscribe!(source |> uppercase() |> reduce(*) |> map(String, reverse), lambda(\n",
    "    on_next = (d) -> println(d)\n",
    "));"
   ]
  },
  {
   "cell_type": "code",
   "execution_count": 6,
   "metadata": {},
   "outputs": [
    {
     "name": "stdout",
     "output_type": "stream",
     "text": [
      "h\n",
      "eh\n",
      "leh\n",
      "lleh\n",
      "olleh\n",
      ",olleh\n",
      "w,olleh\n",
      "ow,olleh\n",
      "row,olleh\n",
      "lrow,olleh\n",
      "dlrow,olleh\n",
      "!dlrow,olleh\n"
     ]
    }
   ],
   "source": [
    "subscribe!(source |> lowercase() |> scan(*), lambda(\n",
    "    on_next = (d) -> println(d)\n",
    "));"
   ]
  },
  {
   "cell_type": "code",
   "execution_count": 7,
   "metadata": {},
   "outputs": [
    {
     "data": {
      "text/plain": [
       "forloop_approach (generic function with 1 method)"
      ]
     },
     "execution_count": 7,
     "metadata": {},
     "output_type": "execute_result"
    }
   ],
   "source": [
    "function forloop_approach()\n",
    "    source = open(\"data\", \"r\")\n",
    "    output = \"\"\n",
    "    for line in eachline(source)\n",
    "         output = output * line\n",
    "    end\n",
    "    close(source)\n",
    "    return uppercase(output)\n",
    "end"
   ]
  },
  {
   "cell_type": "code",
   "execution_count": 8,
   "metadata": {},
   "outputs": [
    {
     "data": {
      "text/plain": [
       "reactive_approach (generic function with 1 method)"
      ]
     },
     "execution_count": 8,
     "metadata": {},
     "output_type": "execute_result"
    }
   ],
   "source": [
    "function reactive_approach()\n",
    "    source = file(\"data\")\n",
    "    actor = keep(String)\n",
    "    subscribe!(source |> reduce((d, c) -> c * d) |> uppercase(), actor);\n",
    "    return actor.values[1]\n",
    "end"
   ]
  },
  {
   "cell_type": "code",
   "execution_count": 9,
   "metadata": {},
   "outputs": [
    {
     "data": {
      "text/plain": [
       "true"
      ]
     },
     "execution_count": 9,
     "metadata": {},
     "output_type": "execute_result"
    }
   ],
   "source": [
    "forloop_approach() == reactive_approach()"
   ]
  },
  {
   "cell_type": "code",
   "execution_count": 10,
   "metadata": {},
   "outputs": [
    {
     "name": "stdout",
     "output_type": "stream",
     "text": [
      "  9.729 μs (38 allocations: 1.56 KiB)\n"
     ]
    }
   ],
   "source": [
    "@btime forloop_approach();"
   ]
  },
  {
   "cell_type": "code",
   "execution_count": 11,
   "metadata": {},
   "outputs": [
    {
     "name": "stdout",
     "output_type": "stream",
     "text": [
      "  10.090 μs (40 allocations: 1.69 KiB)\n"
     ]
    }
   ],
   "source": [
    "@btime reactive_approach();"
   ]
  },
  {
   "cell_type": "code",
   "execution_count": null,
   "metadata": {},
   "outputs": [],
   "source": []
  }
 ],
 "metadata": {
  "kernelspec": {
   "display_name": "Julia O3 1.6.0",
   "language": "julia",
   "name": "julia-o3-1.6"
  },
  "language_info": {
   "file_extension": ".jl",
   "mimetype": "application/julia",
   "name": "julia",
   "version": "1.6.0"
  }
 },
 "nbformat": 4,
 "nbformat_minor": 4
}
