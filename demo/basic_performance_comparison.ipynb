{
 "cells": [
  {
   "cell_type": "code",
   "execution_count": 1,
   "metadata": {},
   "outputs": [
    {
     "name": "stderr",
     "output_type": "stream",
     "text": [
      "┌ Info: Precompiling Rx [df971d30-c9d6-4b37-b8ff-e965b2cb3a40]\n",
      "└ @ Base loading.jl:1273\n"
     ]
    }
   ],
   "source": [
    "using Rx\n",
    "using BenchmarkTools"
   ]
  },
  {
   "cell_type": "code",
   "execution_count": 2,
   "metadata": {},
   "outputs": [],
   "source": [
    "struct KeepActor{D} <: NextActor{D} \n",
    "    values::Vector{D}\n",
    "    \n",
    "    KeepActor{D}() where D = new(Vector{D}())\n",
    "end\n",
    "\n",
    "Rx.on_next!(actor::KeepActor{D}, data::D) where D = push!(actor.values, data)"
   ]
  },
  {
   "cell_type": "markdown",
   "metadata": {},
   "source": [
    "# Map operator performance comparison"
   ]
  },
  {
   "cell_type": "code",
   "execution_count": 3,
   "metadata": {},
   "outputs": [
    {
     "name": "stdout",
     "output_type": "stream",
     "text": [
      "true\n",
      "true\n",
      "  7.026 μs (11 allocations: 24.33 KiB)\n",
      "  7.048 μs (15 allocations: 24.41 KiB)\n",
      "  73.585 μs (2483 allocations: 62.98 KiB)\n"
     ]
    }
   ],
   "source": [
    "function regularArrayMap()\n",
    "    source = [ i for i in 1:1000 ]\n",
    "    keep   = Vector{Int}()\n",
    "    for v in source\n",
    "        push!(keep, v ^ 2)\n",
    "    end\n",
    "    return keep\n",
    "end\n",
    "\n",
    "@CreateMapOperator(SquaredInt, Int, Int, (d) -> d ^ 2)\n",
    "\n",
    "function rxArrayGeneratedMap()\n",
    "    values = Rx.from([ i for i in 1:1000 ])\n",
    "    keep = KeepActor{Int}()\n",
    "    subscribe!(values |> SquaredIntMapOperator(), keep)\n",
    "    return keep.values\n",
    "end\n",
    "\n",
    "function rxArrayLambdaMap()\n",
    "    values = Rx.from([ i for i in 1:1000 ])\n",
    "    keep = KeepActor{Int}()\n",
    "    subscribe!(values |> map(Int, (d) -> d ^ 2), keep)\n",
    "    return keep.values\n",
    "end\n",
    "\n",
    "println(regularArrayMap() == rxArrayGeneratedMap())\n",
    "println(regularArrayMap() == rxArrayLambdaMap())\n",
    "\n",
    "@btime regularArrayMap();\n",
    "@btime rxArrayGeneratedMap();\n",
    "@btime rxArrayLambdaMap();"
   ]
  },
  {
   "cell_type": "markdown",
   "metadata": {},
   "source": [
    "# Filter operator performance comparison"
   ]
  },
  {
   "cell_type": "code",
   "execution_count": 4,
   "metadata": {},
   "outputs": [
    {
     "name": "stdout",
     "output_type": "stream",
     "text": [
      "true\n",
      "true\n",
      "  4.556 μs (10 allocations: 16.27 KiB)\n",
      "  4.615 μs (14 allocations: 16.34 KiB)\n",
      "  50.703 μs (1504 allocations: 39.64 KiB)\n"
     ]
    }
   ],
   "source": [
    "function regularArrayFilter()\n",
    "    source = [ i for i in 1:1000 ]\n",
    "    keep   = Vector{Int}()\n",
    "    for v in source\n",
    "        if v % 2 == 0\n",
    "            push!(keep, v)\n",
    "        end\n",
    "    end\n",
    "    return keep\n",
    "end\n",
    "\n",
    "@CreateFilterOperator(EvenInt, Int, (d) -> d % 2 == 0)\n",
    "\n",
    "function rxArrayGeneratedFilter()\n",
    "    values = Rx.from([ i for i in 1:1000 ])\n",
    "    keep = KeepActor{Int}()\n",
    "    subscribe!(values |> EvenIntFilterOperator(), keep)\n",
    "    return keep.values\n",
    "end\n",
    "\n",
    "function rxArrayLambdaFilter()\n",
    "    values = Rx.from([ i for i in 1:1000 ])\n",
    "    keep = KeepActor{Int}()\n",
    "    subscribe!(values |> filter((d) -> d % 2 == 0), keep)\n",
    "    return keep.values\n",
    "end\n",
    "\n",
    "println(regularArrayFilter() == rxArrayGeneratedFilter())\n",
    "println(regularArrayFilter() == rxArrayLambdaFilter())\n",
    "\n",
    "@btime regularArrayFilter();\n",
    "@btime rxArrayGeneratedFilter();\n",
    "@btime rxArrayLambdaFilter();"
   ]
  },
  {
   "cell_type": "markdown",
   "metadata": {},
   "source": [
    "# Count operator performance comparison"
   ]
  },
  {
   "cell_type": "code",
   "execution_count": 5,
   "metadata": {},
   "outputs": [
    {
     "name": "stdout",
     "output_type": "stream",
     "text": [
      "true\n",
      "  527.554 ns (3 allocations: 8.06 KiB)\n",
      "  999.100 ns (7 allocations: 8.16 KiB)\n"
     ]
    }
   ],
   "source": [
    "function regularArrayCount()\n",
    "    source = [ i for i in 1:1000 ]\n",
    "    keep   = Vector{Int}()\n",
    "    current = 0\n",
    "    for v in source\n",
    "        current += 1\n",
    "    end\n",
    "    push!(keep, current)\n",
    "    return keep\n",
    "end\n",
    "\n",
    "function rxArrayCount()\n",
    "    values = Rx.from([ i for i in 1:1000 ])\n",
    "    keep = KeepActor{Int}()\n",
    "    subscribe!(values |> count(), keep)\n",
    "    return keep.values\n",
    "end\n",
    "\n",
    "println(regularArrayCount() == rxArrayCount())\n",
    "\n",
    "@btime regularArrayCount();\n",
    "@btime rxArrayCount();"
   ]
  },
  {
   "cell_type": "markdown",
   "metadata": {},
   "source": [
    "# Enumerate operator performance comparison"
   ]
  },
  {
   "cell_type": "code",
   "execution_count": 6,
   "metadata": {},
   "outputs": [
    {
     "name": "stdout",
     "output_type": "stream",
     "text": [
      "true\n",
      "  7.455 μs (11 allocations: 40.34 KiB)\n",
      "  8.088 μs (15 allocations: 40.44 KiB)\n"
     ]
    }
   ],
   "source": [
    "function regularArrayEnumerate()\n",
    "    source = [ i for i in 1:1000 ]\n",
    "    keep   = Vector{Tuple{Int, Int}}()\n",
    "    current = 1\n",
    "    for v in source\n",
    "        push!(keep, (v, current))\n",
    "        current += 1\n",
    "    end\n",
    "    return keep\n",
    "end\n",
    "\n",
    "function rxArrayEnumerate()\n",
    "    values = Rx.from([ i for i in 1:1000 ])\n",
    "    keep = KeepActor{Tuple{Int, Int}}()\n",
    "    subscribe!(values |> enumerate(), keep)\n",
    "    return keep.values\n",
    "end\n",
    "\n",
    "println(regularArrayEnumerate() == rxArrayEnumerate())\n",
    "\n",
    "@btime regularArrayEnumerate();\n",
    "@btime rxArrayEnumerate();"
   ]
  },
  {
   "cell_type": "markdown",
   "metadata": {},
   "source": [
    "# Scan operator performance comparison"
   ]
  },
  {
   "cell_type": "code",
   "execution_count": 7,
   "metadata": {},
   "outputs": [
    {
     "name": "stdout",
     "output_type": "stream",
     "text": [
      "true\n",
      "true\n",
      "  6.774 μs (11 allocations: 24.33 KiB)\n",
      "  7.642 μs (15 allocations: 24.42 KiB)\n",
      "  998.691 μs (10273 allocations: 216.00 KiB)\n"
     ]
    }
   ],
   "source": [
    "function regularArrayScan()\n",
    "    source  = [ i for i in 1:1000 ]\n",
    "    keep    = Vector{Int}()\n",
    "    current = 0\n",
    "    for v in source\n",
    "        current = current + v\n",
    "        push!(keep, current)\n",
    "    end\n",
    "    return keep\n",
    "end\n",
    "\n",
    "@CreateScanOperator(Sum, Int, Int, +)\n",
    "\n",
    "function rxArrayGeneratedScan()\n",
    "    values = Rx.from([ i for i in 1:1000 ])\n",
    "    keep = KeepActor{Int}()\n",
    "    subscribe!(values |> SumScanOperator(0), keep)\n",
    "    return keep.values\n",
    "end\n",
    "\n",
    "function rxArrayLambdaScan()\n",
    "    values = Rx.from([ i for i in 1:1000 ])\n",
    "    keep = KeepActor{Int}()\n",
    "    subscribe!(values |> scan(Int, (d, c) -> d + c, 0), keep)\n",
    "    return keep.values\n",
    "end\n",
    "\n",
    "println(regularArrayScan() == rxArrayGeneratedScan())\n",
    "println(regularArrayScan() == rxArrayLambdaScan())\n",
    "\n",
    "@btime regularArrayScan();\n",
    "@btime rxArrayGeneratedScan();\n",
    "@btime rxArrayLambdaScan();"
   ]
  },
  {
   "cell_type": "markdown",
   "metadata": {},
   "source": [
    "# Reduce operator performance comparison"
   ]
  },
  {
   "cell_type": "code",
   "execution_count": 8,
   "metadata": {},
   "outputs": [
    {
     "name": "stdout",
     "output_type": "stream",
     "text": [
      "true\n",
      "true\n",
      "  558.813 ns (3 allocations: 8.06 KiB)\n",
      "  1.047 μs (7 allocations: 8.16 KiB)\n",
      "  955.759 μs (9287 allocations: 184.45 KiB)\n"
     ]
    }
   ],
   "source": [
    "function regularArrayReduce()\n",
    "    source  = [ i for i in 1:1000 ]\n",
    "    keep    = Vector{Int}()\n",
    "    current = 0\n",
    "    for v in source\n",
    "        current = current + v\n",
    "    end\n",
    "    push!(keep, current)\n",
    "    return keep\n",
    "end\n",
    "\n",
    "@CreateReduceOperator(Sum, Int, Int, +)\n",
    "\n",
    "function rxArrayGeneratedReduce()\n",
    "    values = Rx.from([ i for i in 1:1000 ])\n",
    "    keep = KeepActor{Int}()\n",
    "    subscribe!(values |> SumReduceOperator(0), keep)\n",
    "    return keep.values\n",
    "end\n",
    "\n",
    "function rxArrayLambdaReduce()\n",
    "    values = Rx.from([ i for i in 1:1000 ])\n",
    "    keep = KeepActor{Int}()\n",
    "    subscribe!(values |> reduce(Int, (d, c) -> d + c, 0), keep)\n",
    "    return keep.values\n",
    "end\n",
    "\n",
    "println(regularArrayReduce() == rxArrayGeneratedReduce())\n",
    "println(regularArrayReduce() == rxArrayLambdaReduce())\n",
    "\n",
    "@btime regularArrayReduce();\n",
    "@btime rxArrayGeneratedReduce();\n",
    "@btime rxArrayLambdaReduce();"
   ]
  },
  {
   "cell_type": "markdown",
   "metadata": {},
   "source": [
    "# Max operator performance comparison"
   ]
  },
  {
   "cell_type": "code",
   "execution_count": 9,
   "metadata": {},
   "outputs": [
    {
     "name": "stdout",
     "output_type": "stream",
     "text": [
      "true\n",
      "  2.018 μs (3 allocations: 8.06 KiB)\n",
      "  2.883 μs (9 allocations: 8.20 KiB)\n"
     ]
    }
   ],
   "source": [
    "function regularArrayMax()\n",
    "    source  = [ i for i in 1:1000 ]\n",
    "    keep    = Vector{Int}()\n",
    "    current = nothing\n",
    "    for v in source\n",
    "        if current == nothing\n",
    "            current = v\n",
    "        else\n",
    "            if v > current\n",
    "                current = v\n",
    "            end\n",
    "        end\n",
    "    end\n",
    "    push!(keep, current)\n",
    "    return keep\n",
    "end\n",
    "\n",
    "function rxArrayMax()\n",
    "    values = Rx.from([ i for i in 1:1000 ])\n",
    "    keep = KeepActor{Union{Int, Nothing}}()\n",
    "    subscribe!(values |> max(), keep)\n",
    "    return keep.values\n",
    "end\n",
    "\n",
    "println(regularArrayMax() == rxArrayMax())\n",
    "\n",
    "@btime regularArrayMax();\n",
    "@btime rxArrayMax();"
   ]
  },
  {
   "cell_type": "markdown",
   "metadata": {},
   "source": [
    "# Min operator performance comparison"
   ]
  },
  {
   "cell_type": "code",
   "execution_count": 10,
   "metadata": {},
   "outputs": [
    {
     "name": "stdout",
     "output_type": "stream",
     "text": [
      "true\n",
      "  2.957 μs (3 allocations: 8.06 KiB)\n",
      "  2.913 μs (9 allocations: 8.20 KiB)\n"
     ]
    }
   ],
   "source": [
    "function regularArrayMin()\n",
    "    source  = [ i for i in 1:1000 ]\n",
    "    keep    = Vector{Int}()\n",
    "    current = nothing\n",
    "    for v in source\n",
    "        if current == nothing\n",
    "            current = v\n",
    "        else\n",
    "            if v < current\n",
    "                current = v\n",
    "            end\n",
    "        end\n",
    "    end\n",
    "    push!(keep, current)\n",
    "    return keep\n",
    "end\n",
    "\n",
    "function rxArrayMin()\n",
    "    values = Rx.from([ i for i in 1:1000 ])\n",
    "    keep = KeepActor{Union{Int, Nothing}}()\n",
    "    subscribe!(values |> min(), keep)\n",
    "    return keep.values\n",
    "end\n",
    "\n",
    "println(regularArrayMin() == rxArrayMin())\n",
    "\n",
    "@btime regularArrayMin();\n",
    "@btime rxArrayMin();"
   ]
  },
  {
   "cell_type": "markdown",
   "metadata": {},
   "source": [
    "# Sum operator performance comparison"
   ]
  },
  {
   "cell_type": "code",
   "execution_count": 12,
   "metadata": {},
   "outputs": [
    {
     "name": "stdout",
     "output_type": "stream",
     "text": [
      "true\n",
      "  1.387 μs (3 allocations: 8.06 KiB)\n",
      "  2.474 μs (9 allocations: 8.20 KiB)\n"
     ]
    }
   ],
   "source": [
    "function regularArraySum()\n",
    "    source  = [ i for i in 1:1000 ]\n",
    "    keep    = Vector{Int}()\n",
    "    current = nothing\n",
    "    for v in source\n",
    "        if current == nothing\n",
    "            current = v\n",
    "        else\n",
    "            current = current + v\n",
    "        end\n",
    "    end\n",
    "    push!(keep, current)\n",
    "    return keep\n",
    "end\n",
    "\n",
    "function rxArraySum()\n",
    "    values = Rx.from([ i for i in 1:1000 ])\n",
    "    keep = KeepActor{Int}()\n",
    "    subscribe!(values |> sum(), keep)\n",
    "    return keep.values\n",
    "end\n",
    "\n",
    "println(regularArraySum() == rxArraySum())\n",
    "\n",
    "@btime regularArraySum();\n",
    "@btime rxArraySum();"
   ]
  },
  {
   "cell_type": "code",
   "execution_count": null,
   "metadata": {},
   "outputs": [],
   "source": []
  }
 ],
 "metadata": {
  "kernelspec": {
   "display_name": "Julia 1.3.0",
   "language": "julia",
   "name": "julia-1.3"
  },
  "language_info": {
   "file_extension": ".jl",
   "mimetype": "application/julia",
   "name": "julia",
   "version": "1.3.0"
  }
 },
 "nbformat": 4,
 "nbformat_minor": 2
}
