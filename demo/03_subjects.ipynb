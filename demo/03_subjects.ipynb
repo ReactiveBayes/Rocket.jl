{
 "cells": [
  {
   "cell_type": "code",
   "execution_count": 3,
   "metadata": {},
   "outputs": [],
   "source": [
    "using Rx"
   ]
  },
  {
   "cell_type": "markdown",
   "metadata": {},
   "source": [
    "A __Subject__ is a sort of bridge or proxy that is available in some implementations of reactive frameworks that acts both as an observer and as an Observable. Because it is an observer, it can subscribe to one or more Observables, and because it is an Observable, it can pass through the items it observes by reemitting them, and it can also emit new items.\n",
    "\n",
    "Because a Subject subscribes to an Observable, it will trigger that Observable to begin emitting items (if that Observable is “cold” — that is, if it waits for a subscription before it begins to emit items). This can have the effect of making the resulting Subject a “hot” Observable variant of the original “cold” Observable.\n",
    "\n",
    "See also: \n",
    "- [ReactiveX: Subject](http://reactivex.io/documentation/subject.html)\n",
    "- [Introduction to Rx: Subject](http://introtorx.com/Content/v1.0.10621.0/02_KeyTypes.html#Subject)\n",
    "- [To Use Subject or Not To Use Subject](https://www.davesexton.com/blog/post/To-Use-Subject-Or-Not-To-Use-Subject.aspx)"
   ]
  },
  {
   "cell_type": "markdown",
   "metadata": {},
   "source": [
    "### Subject execution modes\n",
    "\n",
    "Rx.jl supports two both synchronous and asynchronous execution modes for any Subject-like object."
   ]
  },
  {
   "cell_type": "code",
   "execution_count": 12,
   "metadata": {},
   "outputs": [
    {
     "name": "stdout",
     "output_type": "stream",
     "text": [
      "[sync_subject logger] Data: 1\n"
     ]
    }
   ],
   "source": [
    "sync_subject = make_subject(Int, mode = SYNCHRONOUS_SUBJECT_MODE)\n",
    "\n",
    "subscription = subscribe!(sync_subject, logger(\"sync_subject logger\"))\n",
    "\n",
    "next!(sync_subject, 1)\n",
    "\n",
    "unsubscribe!(subscription)\n",
    "\n",
    "next!(sync_subject, 2)"
   ]
  },
  {
   "cell_type": "markdown",
   "metadata": {},
   "source": [
    "Default mode is _ASYNCHRONOUS_SUBJECT_MODE_."
   ]
  },
  {
   "cell_type": "code",
   "execution_count": 14,
   "metadata": {},
   "outputs": [],
   "source": [
    "async_subject = make_subject(Int, mode = ASYNCHRONOUS_SUBJECT_MODE); # or simple make_subject(Int)"
   ]
  },
  {
   "cell_type": "markdown",
   "metadata": {},
   "source": [
    "### Subject as an actor\n",
    "\n",
    "It is possible to use some Subject as an Actor. This is the only way to share (multicast) a single observable execution between multiple listeners."
   ]
  },
  {
   "cell_type": "code",
   "execution_count": 15,
   "metadata": {},
   "outputs": [
    {
     "name": "stdout",
     "output_type": "stream",
     "text": [
      "[1] Data: 1\n",
      "[2] Data: 1\n",
      "[1] Data: 2\n",
      "[2] Data: 2\n",
      "[1] Data: 3\n",
      "[2] Data: 3\n",
      "[1] Data: 4\n",
      "[2] Data: 4\n",
      "[1] Data: 5\n",
      "[2] Data: 5\n",
      "[1] Completed\n",
      "[2] Completed\n"
     ]
    }
   ],
   "source": [
    "source = from(1:5)\n",
    "\n",
    "subject = make_subject(Int)\n",
    "\n",
    "subscription1 = subscribe!(subject, logger(\"1\"))\n",
    "subscription2 = subscribe!(subject, logger(\"2\"))\n",
    "\n",
    "subscribe!(source, subject)\n",
    "\n",
    "unsubscribe!(subscription1)\n",
    "unsubscribe!(subscription2)"
   ]
  },
  {
   "cell_type": "markdown",
   "metadata": {},
   "source": [
    "### Varieties of Subject\n",
    "\n",
    "There are few varieties of Subject that are designed for particular use cases. Not all of these are available in all implementations, and some implementations use other naming conventions:"
   ]
  },
  {
   "cell_type": "markdown",
   "metadata": {},
   "source": [
    "#### BehaviorSubject\n",
    "\n",
    "When an observer subscribes to a BehaviorSubject, it begins by emitting the item most recently emitted by the source Observable (or a seed/default value if none has yet been emitted) and then continues to emit any other items emitted later by the source Observable(s)."
   ]
  },
  {
   "cell_type": "code",
   "execution_count": 16,
   "metadata": {},
   "outputs": [
    {
     "name": "stdout",
     "output_type": "stream",
     "text": [
      "[1] Data: 1\n",
      "[1] Data: 2\n",
      "[2] Data: 2\n",
      "[1] Data: 3\n",
      "[2] Data: 3\n"
     ]
    }
   ],
   "source": [
    "bsubject = make_behavior_subject(Int, 1)\n",
    "\n",
    "subscription1 = subscribe!(bsubject, logger(\"1\"))\n",
    "\n",
    "next!(bsubject, 2)\n",
    "\n",
    "subscription2 = subscribe!(bsubject, logger(\"2\"))\n",
    "\n",
    "next!(bsubject, 3)\n",
    "\n",
    "unsubscribe!(subscription1)\n",
    "unsubscribe!(subscription2)"
   ]
  },
  {
   "cell_type": "markdown",
   "metadata": {},
   "source": [
    "#### ReplaySubject\n",
    "\n",
    "ReplaySubject emits to any observer all of the items that were emitted by the source Observable(s), regardless of when the observer subscribes."
   ]
  },
  {
   "cell_type": "code",
   "execution_count": 17,
   "metadata": {},
   "outputs": [
    {
     "name": "stdout",
     "output_type": "stream",
     "text": [
      "[1] Data: 0\n",
      "[1] Data: 2\n",
      "[2] Data: 0\n",
      "[2] Data: 2\n",
      "[1] Data: 3\n",
      "[2] Data: 3\n"
     ]
    }
   ],
   "source": [
    "rsubject = make_replay_subject(Int, 2)\n",
    "\n",
    "next!(rsubject, 0);\n",
    "\n",
    "subscription1 = subscribe!(rsubject, logger(\"1\"))\n",
    "\n",
    "next!(rsubject, 2)\n",
    "\n",
    "subscription2 = subscribe!(rsubject, logger(\"2\"))\n",
    "\n",
    "next!(rsubject, 3)\n",
    "\n",
    "unsubscribe!(subscription1)\n",
    "unsubscribe!(subscription2)"
   ]
  },
  {
   "cell_type": "code",
   "execution_count": null,
   "metadata": {},
   "outputs": [],
   "source": []
  }
 ],
 "metadata": {
  "kernelspec": {
   "display_name": "Julia 1.3.0",
   "language": "julia",
   "name": "julia-1.3"
  },
  "language_info": {
   "file_extension": ".jl",
   "mimetype": "application/julia",
   "name": "julia",
   "version": "1.3.1"
  }
 },
 "nbformat": 4,
 "nbformat_minor": 2
}
