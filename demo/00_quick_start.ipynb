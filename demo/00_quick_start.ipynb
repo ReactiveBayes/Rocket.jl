{
 "cells": [
  {
   "cell_type": "markdown",
   "metadata": {},
   "source": [
    "### What is Reactive programming?\n",
    "\n",
    "Reactive programming is programming with asynchronous data streams. A stream is a sequence of ongoing events ordered in time.\n",
    "\n",
    "Here is the reactive terminology in simple terms:\n",
    "\n",
    "- __Observable__ - An _array_ that is built over time.\n",
    "- __Subscription__ - A _for loop_ that happens over time.\n",
    "- __Emitting__ - When an Observable spits out a value because something subscribed to it.\n",
    "- __Operator__ - Functions that create a new observable from existing observables."
   ]
  },
  {
   "cell_type": "markdown",
   "metadata": {},
   "source": [
    "### Excellent Recources\n",
    "\n",
    "- [RxMarbles](https://rxmarbles.com) - A Visual Guide to Rx\n",
    "- [RxJS](https://rxjs.dev) - RxJS (reactive extensions library for JavaScript) documentation\n",
    "- [RxJS Quick Start](https://angularfirebase.com/lessons/rxjs-quickstart-with-20-examples/) - Quick start for RxJS (this python notebook is an adaptaion of this article)"
   ]
  },
  {
   "cell_type": "markdown",
   "metadata": {},
   "source": [
    "### Create Observables - Define the stream\n",
    "\n",
    "There are many ways to create __Observables__. Remember, a stream can be anything. The most fundamental method is to use _creation operators_."
   ]
  },
  {
   "cell_type": "code",
   "execution_count": 2,
   "metadata": {},
   "outputs": [
    {
     "name": "stdout",
     "output_type": "stream",
     "text": [
      "5050\n"
     ]
    }
   ],
   "source": [
    "using Rocket\n",
    "\n",
    "array_source = from(1:100)\n",
    "\n",
    "subscription = subscribe!(array_source |> sum(), lambda(\n",
    "    on_next = (d) -> println(d)\n",
    "))\n",
    "\n",
    "unsubscribe!(subscription)"
   ]
  },
  {
   "cell_type": "code",
   "execution_count": 3,
   "metadata": {},
   "outputs": [],
   "source": [
    "never_source  = never(Int)\n",
    "error_source  = faulted(Int, \"Some error\")\n",
    "file_source   = file(\"data\")\n",
    "single_source = of(0)\n",
    "timer_source  = timer(100, 100);"
   ]
  },
  {
   "cell_type": "markdown",
   "metadata": {},
   "source": [
    "There are two main types of the Observable.\n",
    "\n",
    "- __Cold Observables__ start emitting or creating values only when the subscription starts, like a typical YouTube video. Each subscriber will see the same sequence (or pattern) of events from start to finish.\n",
    "- __Hot Observables__ are always being updated with new values, like a live stream on YouTube. When you subscribe you start with the most recent value and only see future changes.\n",
    "\n",
    "This is somewhat confusing topic that should be really simple. Check out Ben Lesh’s post on [Hot vs. Cold Observables on Medium](https://medium.com/@benlesh/hot-vs-cold-observables-f8094ed53339)."
   ]
  },
  {
   "cell_type": "markdown",
   "metadata": {},
   "source": [
    "__Rocket.jl__ also provides a general _creation operator_ which allows you to emit values to the subscriber by calling `next!()` in the function. \n",
    "\n",
    "The following is an Observable that emits the values 1, 2, 3 immediately (synchronously) when subscribed to, and the value 4 after one second has passed since the subscribe call, then completes:"
   ]
  },
  {
   "cell_type": "code",
   "execution_count": 4,
   "metadata": {},
   "outputs": [],
   "source": [
    "my_custom_source = make(Int) do actor\n",
    "    next!(actor, 0)\n",
    "    next!(actor, 1)\n",
    "    next!(actor, 2)\n",
    "    setTimeout(1000) do\n",
    "        next!(actor, 3)\n",
    "        complete!(actor)\n",
    "    end\n",
    "end;"
   ]
  },
  {
   "cell_type": "markdown",
   "metadata": {},
   "source": [
    "### Map - Control the Emmited Values\n",
    "\n",
    "The single most powerful Rocket.jl operator is `map`. It allows you to modify the emitted values based on any logic you desire. It’s the chef’s knife of Rocket.jl operators - you will use it often. Here we have an observable of numbers, let’s map them to their logarithm."
   ]
  },
  {
   "cell_type": "code",
   "execution_count": 5,
   "metadata": {},
   "outputs": [
    {
     "name": "stdout",
     "output_type": "stream",
     "text": [
      "1.0\n",
      "2.0\n",
      "3.0\n",
      "Completed\n"
     ]
    }
   ],
   "source": [
    "numbers = from([ 10, 100, 1000 ])\n",
    "\n",
    "subscribe!(numbers |> map(Float64, log10), lambda(\n",
    "    on_next     = (d) -> println(d),\n",
    "    on_error    = (e) -> println(e),\n",
    "    on_complete = ()  -> println(\"Completed\")\n",
    "));"
   ]
  },
  {
   "cell_type": "markdown",
   "metadata": {},
   "source": [
    "### Filter - Use only the Good Stuff\n",
    "\n",
    "Filter will only emit values that meet a certain condition. Suppose we have an Observable of letters where we are only interested in the uppercase ones. "
   ]
  },
  {
   "cell_type": "code",
   "execution_count": 7,
   "metadata": {},
   "outputs": [
    {
     "name": "stdout",
     "output_type": "stream",
     "text": [
      "HELLOWORLD"
     ]
    }
   ],
   "source": [
    "letters = from(\"HhEeLlLlOo, WwOoRrLlDd!\")\n",
    "\n",
    "subscribe!(letters |> filter(isuppercase), lambda(\n",
    "    on_next = (d) -> print(d)\n",
    "));"
   ]
  },
  {
   "cell_type": "markdown",
   "metadata": {},
   "source": [
    "### Tap - Side-effects \n",
    "\n",
    "The `tap` operator allows you to run side-effect code while the Observable emits, without producing side effects on the emitted values themself. This is handy for debugging or for any situation where you want to run code outside of the Observable scope."
   ]
  },
  {
   "cell_type": "code",
   "execution_count": 8,
   "metadata": {},
   "outputs": [
    {
     "name": "stdout",
     "output_type": "stream",
     "text": [
      "Original: 10\n",
      "Log10: 1.0\n",
      "Original: 100\n",
      "Log10: 2.0\n",
      "Original: 1000\n",
      "Log10: 3.0\n",
      "Completed\n"
     ]
    }
   ],
   "source": [
    "subscribe!(numbers |> \n",
    "    tap((d) -> println(\"Original: $d\")) |> map(Float64, log10) |> \n",
    "    tap((d) -> println(\"Log10: $d\")), lambda(on_complete = () -> println(\"Completed\")));"
   ]
  },
  {
   "cell_type": "markdown",
   "metadata": {},
   "source": [
    "### First, Last - When the order counts\n",
    "\n",
    "There are times when you might only care about the first or last element of an Observable."
   ]
  },
  {
   "cell_type": "code",
   "execution_count": 9,
   "metadata": {},
   "outputs": [
    {
     "name": "stdout",
     "output_type": "stream",
     "text": [
      "Dmitry\n"
     ]
    }
   ],
   "source": [
    "names = from([ \"Albert\", \"Wouter\", \"Ivan\", \"Dmitry\" ])\n",
    "\n",
    "subscribe!(names |> last(), lambda(\n",
    "    on_next = (d) -> println(d))\n",
    ");"
   ]
  },
  {
   "cell_type": "code",
   "execution_count": 10,
   "metadata": {},
   "outputs": [
    {
     "name": "stdout",
     "output_type": "stream",
     "text": [
      "Albert\n"
     ]
    }
   ],
   "source": [
    "names = from([ \"Albert\", \"Wouter\", \"Ivan\", \"Dmitry\" ])\n",
    "\n",
    "subscribe!(names |> first(), lambda(\n",
    "    on_next = (d) -> println(d))\n",
    ");"
   ]
  },
  {
   "cell_type": "markdown",
   "metadata": {},
   "source": [
    "### Scan - Keep a Running Total\n",
    "\n",
    "Scan is the reactive counterpart for the `reduce` function used with normal arrays. It keeps track of the accumulated total of emitted values. In other words, it allows you to combine emitted values from an observable. Here is a handwritten version of the `enumerate` operator."
   ]
  },
  {
   "cell_type": "code",
   "execution_count": 11,
   "metadata": {},
   "outputs": [
    {
     "name": "stdout",
     "output_type": "stream",
     "text": [
      "('H', 1)\n",
      "('e', 2)\n",
      "('l', 3)\n",
      "('l', 4)\n",
      "('o', 5)\n",
      "(' ', 6)\n",
      "('W', 7)\n",
      "('o', 8)\n",
      "('r', 9)\n",
      "('l', 10)\n",
      "('d', 11)\n",
      "('!', 12)\n"
     ]
    }
   ],
   "source": [
    "obs = from(\"Hello World!\")\n",
    "\n",
    "subscribe!( obs |> scan(Tuple{Char, Int}, (curr_char, acc_tuple) -> (curr_char, acc_tuple[2] + 1), (' ', 0)), lambda(\n",
    "    on_next = (d) -> println(d)\n",
    "));"
   ]
  },
  {
   "cell_type": "markdown",
   "metadata": {},
   "source": [
    "### Subject - An Observable that talks to multiple subscribers\n",
    "\n",
    "A `Subject` is an Observable with the ability to call `next!()` on itself to emit new values - in other words, it is an event emitter."
   ]
  },
  {
   "cell_type": "code",
   "execution_count": 12,
   "metadata": {},
   "outputs": [],
   "source": [
    "subject = Subject(Int);"
   ]
  },
  {
   "cell_type": "code",
   "execution_count": 13,
   "metadata": {},
   "outputs": [],
   "source": [
    "next!(subject, 1);"
   ]
  },
  {
   "cell_type": "code",
   "execution_count": 14,
   "metadata": {},
   "outputs": [],
   "source": [
    "subscription1 = subscribe!(subject, (d) -> println(\"[1] \", d));"
   ]
  },
  {
   "cell_type": "code",
   "execution_count": 15,
   "metadata": {},
   "outputs": [
    {
     "name": "stdout",
     "output_type": "stream",
     "text": [
      "[1] 2\n"
     ]
    }
   ],
   "source": [
    "next!(subject, 2);"
   ]
  },
  {
   "cell_type": "code",
   "execution_count": 16,
   "metadata": {},
   "outputs": [],
   "source": [
    "subscription2 = subscribe!(subject, (d) -> println(\"[2] \", d));"
   ]
  },
  {
   "cell_type": "code",
   "execution_count": 17,
   "metadata": {},
   "outputs": [
    {
     "name": "stdout",
     "output_type": "stream",
     "text": [
      "[1] 3\n",
      "[2] 3\n"
     ]
    }
   ],
   "source": [
    "next!(subject, 3);"
   ]
  },
  {
   "cell_type": "code",
   "execution_count": 18,
   "metadata": {},
   "outputs": [],
   "source": [
    "unsubscribe!(subscription1);"
   ]
  },
  {
   "cell_type": "code",
   "execution_count": 19,
   "metadata": {},
   "outputs": [
    {
     "name": "stdout",
     "output_type": "stream",
     "text": [
      "[2] 4\n"
     ]
    }
   ],
   "source": [
    "next!(subject, 4);"
   ]
  },
  {
   "cell_type": "code",
   "execution_count": 20,
   "metadata": {},
   "outputs": [],
   "source": [
    "unsubscribe!(subscription2);"
   ]
  },
  {
   "cell_type": "code",
   "execution_count": 21,
   "metadata": {},
   "outputs": [],
   "source": [
    "next!(subject, 5);"
   ]
  },
  {
   "cell_type": "markdown",
   "metadata": {},
   "source": [
    "### Actor - A Subscriber which knows what to do\n",
    "\n",
    "An actor is the primitive unit of computation. It is the entity at the end of the stream that receives events and processes them in a meaningful manner. There are a series of predefined Actors with a certain logic. It is also possible (and this is the preffered way) to define them from scratch. See the documentation for the details."
   ]
  },
  {
   "cell_type": "code",
   "execution_count": 22,
   "metadata": {},
   "outputs": [],
   "source": [
    "common_actor = lambda(\n",
    "    on_next     = (d) -> println(d),\n",
    "    on_error    = (e) -> println(e),\n",
    "    on_complete = ()  -> println(\"Completed\")\n",
    ")\n",
    "\n",
    "logger_actor   = logger()\n",
    "nothing_actor  = void();\n",
    "function_actor = (d) -> println(\"Data: \", d);"
   ]
  },
  {
   "cell_type": "code",
   "execution_count": 23,
   "metadata": {
    "scrolled": true
   },
   "outputs": [
    {
     "name": "stdout",
     "output_type": "stream",
     "text": [
      "1\n",
      "2\n",
      "3\n",
      "4\n",
      "5\n",
      "Completed\n"
     ]
    }
   ],
   "source": [
    "subscribe!(from(1:5), common_actor);"
   ]
  },
  {
   "cell_type": "code",
   "execution_count": 24,
   "metadata": {},
   "outputs": [
    {
     "name": "stdout",
     "output_type": "stream",
     "text": [
      "[LogActor] Data: 1\n",
      "[LogActor] Data: 2\n",
      "[LogActor] Data: 3\n",
      "[LogActor] Data: 4\n",
      "[LogActor] Data: 5\n",
      "[LogActor] Completed\n"
     ]
    }
   ],
   "source": [
    "subscribe!(from(1:5), logger_actor);"
   ]
  },
  {
   "cell_type": "code",
   "execution_count": 25,
   "metadata": {},
   "outputs": [],
   "source": [
    "subscribe!(from(1:5), nothing_actor);"
   ]
  },
  {
   "cell_type": "code",
   "execution_count": 26,
   "metadata": {},
   "outputs": [
    {
     "name": "stdout",
     "output_type": "stream",
     "text": [
      "Data: 1\n",
      "Data: 2\n",
      "Data: 3\n",
      "Data: 4\n",
      "Data: 5\n"
     ]
    }
   ],
   "source": [
    "subscribe!(from(1:5), function_actor);"
   ]
  },
  {
   "cell_type": "markdown",
   "metadata": {},
   "source": [
    "Rocket.jl has a big collection of operators and variations of Observables, but this examples cover a major chunk of the core concepts you need to understand reactive way of programming."
   ]
  }
 ],
 "metadata": {
  "@webio": {
   "lastCommId": null,
   "lastKernelId": null
  },
  "kernelspec": {
   "display_name": "Julia 1.4.1",
   "language": "julia",
   "name": "julia-1.4"
  },
  "language_info": {
   "file_extension": ".jl",
   "mimetype": "application/julia",
   "name": "julia",
   "version": "1.4.1"
  }
 },
 "nbformat": 4,
 "nbformat_minor": 4
}
