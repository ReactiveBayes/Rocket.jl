{
 "cells": [
  {
   "cell_type": "code",
   "execution_count": 1,
   "metadata": {},
   "outputs": [],
   "source": [
    "using Rocket"
   ]
  },
  {
   "cell_type": "markdown",
   "metadata": {},
   "source": [
    "### What is Reactive programming?\n",
    "\n",
    "There are different ways to think about reactive depending on your background.\n",
    "\n",
    "Here is the reactive terminology in a highly simplified way.\n",
    "\n",
    "- __Observable__ - An _array_ that is build over time.\n",
    "- __Subscription__ - A _for loop_ that happens over time.\n",
    "- __Emitting__ - When an Observable spits out a value because something subscribed to it.\n",
    "- __Operator__ - Functions that alter the way Observables emit values."
   ]
  },
  {
   "cell_type": "markdown",
   "metadata": {},
   "source": [
    "### Excellent Recources\n",
    "\n",
    "- [RxMarbles](https://rxmarbles.com) - A Visual Guide to Rx\n",
    "- [RxJS](https://rxjs.dev) - RxJS (reactive extensions library for JavaScript) documentation\n",
    "- [RxJS Quick Start](https://angularfirebase.com/lessons/rxjs-quickstart-with-20-examples/) - Quick start for RxJS (this python notebook is an adaptaion of this article)"
   ]
  },
  {
   "cell_type": "markdown",
   "metadata": {},
   "source": [
    "### Create Observables - Define the stream\n",
    "\n",
    "There are many ways to create __Observables__. Remember, a stream can be anything. The most fundamental method is to use _creation operators_."
   ]
  },
  {
   "cell_type": "code",
   "execution_count": 2,
   "metadata": {},
   "outputs": [
    {
     "name": "stdout",
     "output_type": "stream",
     "text": [
      "5050\n"
     ]
    }
   ],
   "source": [
    "array_source = from([ i for i in 1:100 ])\n",
    "\n",
    "subscription = subscribe!(array_source |> sum(), lambda(\n",
    "    on_next = (d) -> println(d)\n",
    "))\n",
    "\n",
    "unsubscribe!(subscription)"
   ]
  },
  {
   "cell_type": "code",
   "execution_count": 3,
   "metadata": {},
   "outputs": [],
   "source": [
    "never_source  = never(Int)\n",
    "error_source  = throwError(\"Some error\", Int)\n",
    "file_source   = file(\"data\")\n",
    "single_source = of(0)\n",
    "timer_source  = timer(100, 100);"
   ]
  },
  {
   "cell_type": "markdown",
   "metadata": {},
   "source": [
    "There are two main types of the Observable.\n",
    "\n",
    "- __Cold Observables__ start emitting or creating values only when the subscription starts, like a typical YouTube video. Each subscriber will see the same sequence (or pattern) of events from start to finish.\n",
    "- __Hot Observables__ are always being updated with new values, like a live stream on YouTube. When you subscribe you start with the most recent value and only see future changes.\n",
    "\n",
    "This is somewhat confusing topic that should be really simple. Check out Ben Lesh’s post on [Hot vs. Cold Observables on Medium](https://medium.com/@benlesh/hot-vs-cold-observables-f8094ed53339)."
   ]
  },
  {
   "cell_type": "markdown",
   "metadata": {},
   "source": [
    "__Rocket.jl__ also provides a general _creation operator_ which allows you to emit values to the subscriber by calling `next!()` in the function. \n",
    "\n",
    "The following is an Observable that pushes the values 1, 2, 3 immediately (synchronously) when subscribed, and the value 4 after one second has passed since the subscribe call, then completes:"
   ]
  },
  {
   "cell_type": "code",
   "execution_count": 4,
   "metadata": {},
   "outputs": [],
   "source": [
    "my_custom_source = make(Int) do actor\n",
    "    next!(actor, 0)\n",
    "    next!(actor, 1)\n",
    "    next!(actor, 2)\n",
    "    setTimeout(1000) do\n",
    "        next!(actor, 3)\n",
    "        complete!(actor)\n",
    "    end\n",
    "end;"
   ]
  },
  {
   "cell_type": "markdown",
   "metadata": {},
   "source": [
    "### Map - Control the Emmited Values\n",
    "\n",
    "The single most powerful Rocket.jl operator is `map`. It allows you to modify the emitted values based any logic you desire. It’s the chef’s knife of Rocket.jl operators - you will use it often. Here we have an observable of numbers, let’s map them to their logarithm."
   ]
  },
  {
   "cell_type": "code",
   "execution_count": 5,
   "metadata": {},
   "outputs": [
    {
     "name": "stdout",
     "output_type": "stream",
     "text": [
      "1.0\n",
      "2.0\n",
      "3.0\n",
      "Completed\n"
     ]
    }
   ],
   "source": [
    "numbers = from([ 10, 100, 1000 ])\n",
    "\n",
    "subscribe!(numbers |> map(Float64, (d) -> log10(d)), lambda(\n",
    "    on_next     = (d) -> println(d),\n",
    "    on_error    = (e) -> println(e),\n",
    "    on_complete = ()  -> println(\"Completed\")\n",
    "));"
   ]
  },
  {
   "cell_type": "markdown",
   "metadata": {},
   "source": [
    "__Performance tip__: Do not use lambda based operators in real Julia code as them lack of performance. Either use macro helpers to generate efficient versions of operators (like `@CreateMapOperator()` and/or `@CreateFilterOperator()`, etc..) or implement your own operators without using lambda functions. See the documentation for the details.\n",
    "\n",
    "Here is the same example but using a pregenerated version of the log operator."
   ]
  },
  {
   "cell_type": "code",
   "execution_count": 6,
   "metadata": {},
   "outputs": [
    {
     "name": "stdout",
     "output_type": "stream",
     "text": [
      "1.0\n",
      "2.0\n",
      "3.0\n",
      "Completed\n"
     ]
    }
   ],
   "source": [
    "@CreateMapOperator(Log, Int, Float64, (d) -> log10(d))\n",
    "\n",
    "subscribe!(numbers |> LogMapOperator(), lambda(\n",
    "    on_next     = (d) -> println(d),\n",
    "    on_error    = (e) -> println(e),\n",
    "    on_complete = ()  -> println(\"Completed\")\n",
    "));"
   ]
  },
  {
   "cell_type": "markdown",
   "metadata": {},
   "source": [
    "### Filter - Use only the Good Stuff\n",
    "\n",
    "Filter will only emit values if they meet a certain condition. Let’s say we have an Observable of letters, but only want to show letters which is in the uppercase."
   ]
  },
  {
   "cell_type": "code",
   "execution_count": 7,
   "metadata": {},
   "outputs": [
    {
     "name": "stdout",
     "output_type": "stream",
     "text": [
      "HELLOWORLD"
     ]
    }
   ],
   "source": [
    "letters = from(\"HhEeLlLlOo, WwOoRrLlDd!\")\n",
    "\n",
    "subscribe!(letters |> filter((d) -> isuppercase(d)), lambda(\n",
    "    on_next = (d) -> print(d)\n",
    "));"
   ]
  },
  {
   "cell_type": "markdown",
   "metadata": {},
   "source": [
    "### Tap - Side-effects \n",
    "\n",
    "The `tap` operator allows you to run side-effect code while the Observable emits, without producing side effects on the emitted values themself. This is handy for debugging or for any situation where you want to run code outside of the Observable scope."
   ]
  },
  {
   "cell_type": "code",
   "execution_count": 8,
   "metadata": {},
   "outputs": [
    {
     "name": "stdout",
     "output_type": "stream",
     "text": [
      "Original: 10\n",
      "Log10: 1.0\n",
      "Original: 100\n",
      "Log10: 2.0\n",
      "Original: 1000\n",
      "Log10: 3.0\n",
      "Completed\n"
     ]
    }
   ],
   "source": [
    "subscribe!(numbers |> \n",
    "    tap((d) -> println(\"Original: $d\")) |> \n",
    "    LogMapOperator() |> \n",
    "    tap((d) -> println(\"Log10: $d\")), lambda(on_complete = () -> println(\"Completed\")));"
   ]
  },
  {
   "cell_type": "markdown",
   "metadata": {},
   "source": [
    "### First, Last - When the order counts\n",
    "\n",
    "There are times when you might only care about the first or last element of an Observable."
   ]
  },
  {
   "cell_type": "code",
   "execution_count": 9,
   "metadata": {},
   "outputs": [
    {
     "name": "stdout",
     "output_type": "stream",
     "text": [
      "Dmitry\n"
     ]
    }
   ],
   "source": [
    "names = from([ \"Albert\", \"Wouter\", \"Ivan\", \"Dmitry\" ])\n",
    "\n",
    "subscribe!(names |> last(), lambda(\n",
    "    on_next = (d) -> println(d))\n",
    ");"
   ]
  },
  {
   "cell_type": "code",
   "execution_count": 10,
   "metadata": {},
   "outputs": [
    {
     "name": "stdout",
     "output_type": "stream",
     "text": [
      "Albert\n"
     ]
    }
   ],
   "source": [
    "names = from([ \"Albert\", \"Wouter\", \"Ivan\", \"Dmitry\" ])\n",
    "\n",
    "subscribe!(names |> first(), lambda(\n",
    "    on_next = (d) -> println(d))\n",
    ");"
   ]
  },
  {
   "cell_type": "markdown",
   "metadata": {},
   "source": [
    "### Scan - Keep a Running Total\n",
    "\n",
    "Scan sounds scary, but works just like `reduce` for arrays in Julia. It keeps track of the accumulated total of emitted values, so you can combine the emitted values from an observable together. Here the handwritten version of the `enumerate` operator."
   ]
  },
  {
   "cell_type": "code",
   "execution_count": 11,
   "metadata": {},
   "outputs": [
    {
     "name": "stdout",
     "output_type": "stream",
     "text": [
      "('H', 1)\n",
      "('e', 2)\n",
      "('l', 3)\n",
      "('l', 4)\n",
      "('o', 5)\n",
      "(',', 6)\n",
      "(' ', 7)\n",
      "('w', 8)\n",
      "('o', 9)\n",
      "('r', 10)\n",
      "('l', 11)\n",
      "('d', 12)\n"
     ]
    }
   ],
   "source": [
    "hello = from(\"Hello, world\")\n",
    "\n",
    "subscribe!( hello |> scan(Tuple{Char, Int}, (d, c) -> (d, c[2] + 1), (' ', 0)), lambda(\n",
    "    on_next = (d) -> println(d)\n",
    "));"
   ]
  },
  {
   "cell_type": "markdown",
   "metadata": {},
   "source": [
    "### Subject - An Observable that talks to subscribers\n",
    "\n",
    "An Rocket.jl `Subject` is just an Observable with the ability to call `next!()` on itself to emit new values - in other words, it is an event emitter."
   ]
  },
  {
   "cell_type": "code",
   "execution_count": 12,
   "metadata": {},
   "outputs": [],
   "source": [
    "st = make_subject(Int);"
   ]
  },
  {
   "cell_type": "code",
   "execution_count": 13,
   "metadata": {},
   "outputs": [],
   "source": [
    "next!(st, 1);"
   ]
  },
  {
   "cell_type": "code",
   "execution_count": 14,
   "metadata": {},
   "outputs": [],
   "source": [
    "subscription = subscribe!(st, lambda(\n",
    "    on_next = (d) -> println(d)\n",
    "));"
   ]
  },
  {
   "cell_type": "code",
   "execution_count": 15,
   "metadata": {},
   "outputs": [
    {
     "name": "stdout",
     "output_type": "stream",
     "text": [
      "2\n"
     ]
    }
   ],
   "source": [
    "next!(st, 2);"
   ]
  },
  {
   "cell_type": "code",
   "execution_count": 16,
   "metadata": {},
   "outputs": [],
   "source": [
    "unsubscribe!(subscription);"
   ]
  },
  {
   "cell_type": "code",
   "execution_count": 17,
   "metadata": {},
   "outputs": [],
   "source": [
    "next!(st, 3);"
   ]
  },
  {
   "cell_type": "markdown",
   "metadata": {},
   "source": [
    "### Actor - A Subscriber which knows what to do \n",
    "\n",
    "An actor is the primitive unit of computation. It’s the thing that receives a message and do some kind of computation based on it. There is a bunch of predefined Actors with a certain logic. It is also possible (and this is the preffered way) to create a custom actor from scratch. See the documentation for the details."
   ]
  },
  {
   "cell_type": "code",
   "execution_count": 18,
   "metadata": {},
   "outputs": [],
   "source": [
    "common_actor = lambda(\n",
    "    on_next     = (d) -> println(d),\n",
    "    on_error    = (e) -> println(e),\n",
    "    on_complete = ()  -> println(\"Completed\")\n",
    ")\n",
    "\n",
    "logger_actor  = logger()\n",
    "nothing_actor = void();"
   ]
  },
  {
   "cell_type": "code",
   "execution_count": 19,
   "metadata": {
    "scrolled": true
   },
   "outputs": [
    {
     "name": "stdout",
     "output_type": "stream",
     "text": [
      "1\n",
      "2\n",
      "3\n",
      "4\n",
      "5\n",
      "Completed\n"
     ]
    }
   ],
   "source": [
    "subscribe!(from(1:5), common_actor);"
   ]
  },
  {
   "cell_type": "code",
   "execution_count": 20,
   "metadata": {},
   "outputs": [
    {
     "name": "stdout",
     "output_type": "stream",
     "text": [
      "[LogActor] Data: 1\n",
      "[LogActor] Data: 2\n",
      "[LogActor] Data: 3\n",
      "[LogActor] Data: 4\n",
      "[LogActor] Data: 5\n",
      "[LogActor] Completed\n"
     ]
    }
   ],
   "source": [
    "subscribe!(from(1:5), logger_actor);"
   ]
  },
  {
   "cell_type": "code",
   "execution_count": 21,
   "metadata": {},
   "outputs": [],
   "source": [
    "subscribe!(from(1:5), nothing_actor);"
   ]
  },
  {
   "cell_type": "markdown",
   "metadata": {},
   "source": [
    "Rocket.jl has a big collection of operators and variations of Observables, but this examples cover a major chunk of the core concepts you need to understand reactive way of programming."
   ]
  }
 ],
 "metadata": {
  "kernelspec": {
   "display_name": "Julia 1.3.0",
   "language": "julia",
   "name": "julia-1.3"
  },
  "language_info": {
   "file_extension": ".jl",
   "mimetype": "application/julia",
   "name": "julia",
   "version": "1.3.1"
  }
 },
 "nbformat": 4,
 "nbformat_minor": 2
}
