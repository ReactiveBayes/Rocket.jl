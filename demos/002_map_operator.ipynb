{
 "cells": [
  {
   "cell_type": "code",
   "execution_count": 28,
   "metadata": {},
   "outputs": [],
   "source": [
    "using Rx\n",
    "using BenchmarkTools"
   ]
  },
  {
   "cell_type": "code",
   "execution_count": 29,
   "metadata": {},
   "outputs": [
    {
     "data": {
      "text/plain": [
       "withRegularArray (generic function with 1 method)"
      ]
     },
     "execution_count": 29,
     "metadata": {},
     "output_type": "execute_result"
    }
   ],
   "source": [
    "function withRegularArray()\n",
    "    values = [ i for i in 1:1000 ]\n",
    "    keep = Array{Int, 1}()\n",
    "    for value in values\n",
    "         push!(keep, value ^ 2)\n",
    "    end\n",
    "    return keep\n",
    "end"
   ]
  },
  {
   "cell_type": "code",
   "execution_count": 30,
   "metadata": {},
   "outputs": [],
   "source": [
    "struct KeepActor{D} <: NextActor{D}\n",
    "    values::Array{D, 1}\n",
    "    \n",
    "    KeepActor{D}() where D = new(Array{D, 1}())\n",
    "end\n",
    "\n",
    "Rx.on_next!(actor::KeepActor{D}, data::D) where D = push!(actor.values, data)"
   ]
  },
  {
   "cell_type": "code",
   "execution_count": 31,
   "metadata": {},
   "outputs": [
    {
     "data": {
      "text/plain": [
       "withPregeneratedOperator (generic function with 1 method)"
      ]
     },
     "execution_count": 31,
     "metadata": {},
     "output_type": "execute_result"
    }
   ],
   "source": [
    "@CreateMapOperator(SquaredInt, Int, Int, (d) -> d ^ 2)\n",
    "\n",
    "function withPregeneratedOperator()\n",
    "    source = from([ i for i in 1:1000 ])\n",
    "    keep = KeepActor{Int}()\n",
    "    subscribe!(source |> SquaredIntMapOperator(), keep)\n",
    "    return keep.values\n",
    "end"
   ]
  },
  {
   "cell_type": "code",
   "execution_count": 32,
   "metadata": {},
   "outputs": [
    {
     "data": {
      "text/plain": [
       "withBaseMapOperator (generic function with 1 method)"
      ]
     },
     "execution_count": 32,
     "metadata": {},
     "output_type": "execute_result"
    }
   ],
   "source": [
    "function withBaseMapOperator()\n",
    "    source = from([ i for i in 1:1000 ])\n",
    "    keep = KeepActor{Int}()\n",
    "    subscribe!(source |> map(Int, Int, (d) -> d ^ 2), keep)\n",
    "    return keep.values\n",
    "end"
   ]
  },
  {
   "cell_type": "code",
   "execution_count": 33,
   "metadata": {},
   "outputs": [
    {
     "name": "stdout",
     "output_type": "stream",
     "text": [
      "  7.164 μs (11 allocations: 24.33 KiB)\n"
     ]
    }
   ],
   "source": [
    "@btime withRegularArray();"
   ]
  },
  {
   "cell_type": "code",
   "execution_count": 34,
   "metadata": {},
   "outputs": [
    {
     "name": "stdout",
     "output_type": "stream",
     "text": [
      "  7.373 μs (15 allocations: 24.41 KiB)\n"
     ]
    }
   ],
   "source": [
    "@btime withPregeneratedOperator();"
   ]
  },
  {
   "cell_type": "code",
   "execution_count": 35,
   "metadata": {},
   "outputs": [
    {
     "name": "stdout",
     "output_type": "stream",
     "text": [
      "  48.144 μs (1483 allocations: 47.36 KiB)\n"
     ]
    }
   ],
   "source": [
    "@btime withBaseMapOperator();"
   ]
  },
  {
   "cell_type": "code",
   "execution_count": null,
   "metadata": {},
   "outputs": [],
   "source": []
  }
 ],
 "metadata": {
  "kernelspec": {
   "display_name": "Julia 1.3.0",
   "language": "julia",
   "name": "julia-1.3"
  },
  "language_info": {
   "file_extension": ".jl",
   "mimetype": "application/julia",
   "name": "julia",
   "version": "1.3.0"
  }
 },
 "nbformat": 4,
 "nbformat_minor": 2
}
