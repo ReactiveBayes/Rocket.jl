{
 "cells": [
  {
   "cell_type": "code",
   "execution_count": 1,
   "metadata": {},
   "outputs": [
    {
     "name": "stderr",
     "output_type": "stream",
     "text": [
      "┌ Info: Precompiling Rx [df971d30-c9d6-4b37-b8ff-e965b2cb3a40]\n",
      "└ @ Base loading.jl:1273\n"
     ]
    }
   ],
   "source": [
    "using Rx\n",
    "using BenchmarkTools"
   ]
  },
  {
   "cell_type": "code",
   "execution_count": 2,
   "metadata": {},
   "outputs": [
    {
     "data": {
      "text/plain": [
       "withRegularArray (generic function with 1 method)"
      ]
     },
     "execution_count": 2,
     "metadata": {},
     "output_type": "execute_result"
    }
   ],
   "source": [
    "function withRegularArray()\n",
    "    values = [ i for i in 1:100 ]\n",
    "    keep    = Vector{Vector{Int}}()\n",
    "    current = Int[]\n",
    "    for value in values\n",
    "        current = [ current..., value ]\n",
    "        push!(keep, current)\n",
    "    end\n",
    "    return keep\n",
    "end"
   ]
  },
  {
   "cell_type": "code",
   "execution_count": 3,
   "metadata": {},
   "outputs": [],
   "source": [
    "struct KeepActor{D} <: NextActor{D}\n",
    "    values::Array{D, 1}\n",
    "    \n",
    "    KeepActor{D}() where D = new(Array{D, 1}())\n",
    "end\n",
    "\n",
    "Rx.on_next!(actor::KeepActor{D}, data::D) where D = push!(actor.values, data)"
   ]
  },
  {
   "cell_type": "code",
   "execution_count": 4,
   "metadata": {},
   "outputs": [
    {
     "data": {
      "text/plain": [
       "withPregeneratedOperator (generic function with 1 method)"
      ]
     },
     "execution_count": 4,
     "metadata": {},
     "output_type": "execute_result"
    }
   ],
   "source": [
    "@CreateScanOperator(IntoArray, (d, c) -> [ c..., d ])\n",
    "\n",
    "function withPregeneratedOperator()\n",
    "    source = from([ i for i in 1:100 ])\n",
    "    keep = KeepActor{Array{Int, 1}}()\n",
    "    subscribe!(source |> IntoArrayScanOperator{Int, Array{Int, 1}}(Int[]), keep)\n",
    "    return keep.values\n",
    "end"
   ]
  },
  {
   "cell_type": "code",
   "execution_count": 5,
   "metadata": {},
   "outputs": [
    {
     "data": {
      "text/plain": [
       "withBaseScanOperator (generic function with 1 method)"
      ]
     },
     "execution_count": 5,
     "metadata": {},
     "output_type": "execute_result"
    }
   ],
   "source": [
    "function withBaseScanOperator()\n",
    "    source = from([ i for i in 1:100 ])\n",
    "    keep = KeepActor{Array{Int, 1}}()\n",
    "    subscribe!(source |> scan(Int, Vector{Int}, (d, c) -> [ c..., d ], Int[]), keep)\n",
    "    return keep.values\n",
    "end"
   ]
  },
  {
   "cell_type": "code",
   "execution_count": 6,
   "metadata": {},
   "outputs": [
    {
     "name": "stdout",
     "output_type": "stream",
     "text": [
      "  65.426 μs (209 allocations: 53.78 KiB)\n"
     ]
    },
    {
     "data": {
      "text/plain": [
       "100-element Array{Array{Int64,1},1}:\n",
       " [1]                                                                        \n",
       " [1, 2]                                                                     \n",
       " [1, 2, 3]                                                                  \n",
       " [1, 2, 3, 4]                                                               \n",
       " [1, 2, 3, 4, 5]                                                            \n",
       " [1, 2, 3, 4, 5, 6]                                                         \n",
       " [1, 2, 3, 4, 5, 6, 7]                                                      \n",
       " [1, 2, 3, 4, 5, 6, 7, 8]                                                   \n",
       " [1, 2, 3, 4, 5, 6, 7, 8, 9]                                                \n",
       " [1, 2, 3, 4, 5, 6, 7, 8, 9, 10]                                            \n",
       " [1, 2, 3, 4, 5, 6, 7, 8, 9, 10, 11]                                        \n",
       " [1, 2, 3, 4, 5, 6, 7, 8, 9, 10, 11, 12]                                    \n",
       " [1, 2, 3, 4, 5, 6, 7, 8, 9, 10, 11, 12, 13]                                \n",
       " ⋮                                                                          \n",
       " [1, 2, 3, 4, 5, 6, 7, 8, 9, 10  …  80, 81, 82, 83, 84, 85, 86, 87, 88, 89] \n",
       " [1, 2, 3, 4, 5, 6, 7, 8, 9, 10  …  81, 82, 83, 84, 85, 86, 87, 88, 89, 90] \n",
       " [1, 2, 3, 4, 5, 6, 7, 8, 9, 10  …  82, 83, 84, 85, 86, 87, 88, 89, 90, 91] \n",
       " [1, 2, 3, 4, 5, 6, 7, 8, 9, 10  …  83, 84, 85, 86, 87, 88, 89, 90, 91, 92] \n",
       " [1, 2, 3, 4, 5, 6, 7, 8, 9, 10  …  84, 85, 86, 87, 88, 89, 90, 91, 92, 93] \n",
       " [1, 2, 3, 4, 5, 6, 7, 8, 9, 10  …  85, 86, 87, 88, 89, 90, 91, 92, 93, 94] \n",
       " [1, 2, 3, 4, 5, 6, 7, 8, 9, 10  …  86, 87, 88, 89, 90, 91, 92, 93, 94, 95] \n",
       " [1, 2, 3, 4, 5, 6, 7, 8, 9, 10  …  87, 88, 89, 90, 91, 92, 93, 94, 95, 96] \n",
       " [1, 2, 3, 4, 5, 6, 7, 8, 9, 10  …  88, 89, 90, 91, 92, 93, 94, 95, 96, 97] \n",
       " [1, 2, 3, 4, 5, 6, 7, 8, 9, 10  …  89, 90, 91, 92, 93, 94, 95, 96, 97, 98] \n",
       " [1, 2, 3, 4, 5, 6, 7, 8, 9, 10  …  90, 91, 92, 93, 94, 95, 96, 97, 98, 99] \n",
       " [1, 2, 3, 4, 5, 6, 7, 8, 9, 10  …  91, 92, 93, 94, 95, 96, 97, 98, 99, 100]"
      ]
     },
     "execution_count": 6,
     "metadata": {},
     "output_type": "execute_result"
    }
   ],
   "source": [
    "@btime withRegularArray()"
   ]
  },
  {
   "cell_type": "code",
   "execution_count": 7,
   "metadata": {},
   "outputs": [
    {
     "name": "stdout",
     "output_type": "stream",
     "text": [
      "  69.961 μs (215 allocations: 53.97 KiB)\n"
     ]
    },
    {
     "data": {
      "text/plain": [
       "100-element Array{Array{Int64,1},1}:\n",
       " [1]                                                                        \n",
       " [1, 2]                                                                     \n",
       " [1, 2, 3]                                                                  \n",
       " [1, 2, 3, 4]                                                               \n",
       " [1, 2, 3, 4, 5]                                                            \n",
       " [1, 2, 3, 4, 5, 6]                                                         \n",
       " [1, 2, 3, 4, 5, 6, 7]                                                      \n",
       " [1, 2, 3, 4, 5, 6, 7, 8]                                                   \n",
       " [1, 2, 3, 4, 5, 6, 7, 8, 9]                                                \n",
       " [1, 2, 3, 4, 5, 6, 7, 8, 9, 10]                                            \n",
       " [1, 2, 3, 4, 5, 6, 7, 8, 9, 10, 11]                                        \n",
       " [1, 2, 3, 4, 5, 6, 7, 8, 9, 10, 11, 12]                                    \n",
       " [1, 2, 3, 4, 5, 6, 7, 8, 9, 10, 11, 12, 13]                                \n",
       " ⋮                                                                          \n",
       " [1, 2, 3, 4, 5, 6, 7, 8, 9, 10  …  80, 81, 82, 83, 84, 85, 86, 87, 88, 89] \n",
       " [1, 2, 3, 4, 5, 6, 7, 8, 9, 10  …  81, 82, 83, 84, 85, 86, 87, 88, 89, 90] \n",
       " [1, 2, 3, 4, 5, 6, 7, 8, 9, 10  …  82, 83, 84, 85, 86, 87, 88, 89, 90, 91] \n",
       " [1, 2, 3, 4, 5, 6, 7, 8, 9, 10  …  83, 84, 85, 86, 87, 88, 89, 90, 91, 92] \n",
       " [1, 2, 3, 4, 5, 6, 7, 8, 9, 10  …  84, 85, 86, 87, 88, 89, 90, 91, 92, 93] \n",
       " [1, 2, 3, 4, 5, 6, 7, 8, 9, 10  …  85, 86, 87, 88, 89, 90, 91, 92, 93, 94] \n",
       " [1, 2, 3, 4, 5, 6, 7, 8, 9, 10  …  86, 87, 88, 89, 90, 91, 92, 93, 94, 95] \n",
       " [1, 2, 3, 4, 5, 6, 7, 8, 9, 10  …  87, 88, 89, 90, 91, 92, 93, 94, 95, 96] \n",
       " [1, 2, 3, 4, 5, 6, 7, 8, 9, 10  …  88, 89, 90, 91, 92, 93, 94, 95, 96, 97] \n",
       " [1, 2, 3, 4, 5, 6, 7, 8, 9, 10  …  89, 90, 91, 92, 93, 94, 95, 96, 97, 98] \n",
       " [1, 2, 3, 4, 5, 6, 7, 8, 9, 10  …  90, 91, 92, 93, 94, 95, 96, 97, 98, 99] \n",
       " [1, 2, 3, 4, 5, 6, 7, 8, 9, 10  …  91, 92, 93, 94, 95, 96, 97, 98, 99, 100]"
      ]
     },
     "execution_count": 7,
     "metadata": {},
     "output_type": "execute_result"
    }
   ],
   "source": [
    "@btime withPregeneratedOperator()"
   ]
  },
  {
   "cell_type": "code",
   "execution_count": 8,
   "metadata": {},
   "outputs": [
    {
     "name": "stdout",
     "output_type": "stream",
     "text": [
      "  82.172 μs (315 allocations: 57.11 KiB)\n"
     ]
    },
    {
     "data": {
      "text/plain": [
       "100-element Array{Array{Int64,1},1}:\n",
       " [1]                                                                        \n",
       " [1, 2]                                                                     \n",
       " [1, 2, 3]                                                                  \n",
       " [1, 2, 3, 4]                                                               \n",
       " [1, 2, 3, 4, 5]                                                            \n",
       " [1, 2, 3, 4, 5, 6]                                                         \n",
       " [1, 2, 3, 4, 5, 6, 7]                                                      \n",
       " [1, 2, 3, 4, 5, 6, 7, 8]                                                   \n",
       " [1, 2, 3, 4, 5, 6, 7, 8, 9]                                                \n",
       " [1, 2, 3, 4, 5, 6, 7, 8, 9, 10]                                            \n",
       " [1, 2, 3, 4, 5, 6, 7, 8, 9, 10, 11]                                        \n",
       " [1, 2, 3, 4, 5, 6, 7, 8, 9, 10, 11, 12]                                    \n",
       " [1, 2, 3, 4, 5, 6, 7, 8, 9, 10, 11, 12, 13]                                \n",
       " ⋮                                                                          \n",
       " [1, 2, 3, 4, 5, 6, 7, 8, 9, 10  …  80, 81, 82, 83, 84, 85, 86, 87, 88, 89] \n",
       " [1, 2, 3, 4, 5, 6, 7, 8, 9, 10  …  81, 82, 83, 84, 85, 86, 87, 88, 89, 90] \n",
       " [1, 2, 3, 4, 5, 6, 7, 8, 9, 10  …  82, 83, 84, 85, 86, 87, 88, 89, 90, 91] \n",
       " [1, 2, 3, 4, 5, 6, 7, 8, 9, 10  …  83, 84, 85, 86, 87, 88, 89, 90, 91, 92] \n",
       " [1, 2, 3, 4, 5, 6, 7, 8, 9, 10  …  84, 85, 86, 87, 88, 89, 90, 91, 92, 93] \n",
       " [1, 2, 3, 4, 5, 6, 7, 8, 9, 10  …  85, 86, 87, 88, 89, 90, 91, 92, 93, 94] \n",
       " [1, 2, 3, 4, 5, 6, 7, 8, 9, 10  …  86, 87, 88, 89, 90, 91, 92, 93, 94, 95] \n",
       " [1, 2, 3, 4, 5, 6, 7, 8, 9, 10  …  87, 88, 89, 90, 91, 92, 93, 94, 95, 96] \n",
       " [1, 2, 3, 4, 5, 6, 7, 8, 9, 10  …  88, 89, 90, 91, 92, 93, 94, 95, 96, 97] \n",
       " [1, 2, 3, 4, 5, 6, 7, 8, 9, 10  …  89, 90, 91, 92, 93, 94, 95, 96, 97, 98] \n",
       " [1, 2, 3, 4, 5, 6, 7, 8, 9, 10  …  90, 91, 92, 93, 94, 95, 96, 97, 98, 99] \n",
       " [1, 2, 3, 4, 5, 6, 7, 8, 9, 10  …  91, 92, 93, 94, 95, 96, 97, 98, 99, 100]"
      ]
     },
     "execution_count": 8,
     "metadata": {},
     "output_type": "execute_result"
    }
   ],
   "source": [
    "@btime withBaseScanOperator()"
   ]
  },
  {
   "cell_type": "code",
   "execution_count": null,
   "metadata": {},
   "outputs": [],
   "source": []
  }
 ],
 "metadata": {
  "kernelspec": {
   "display_name": "Julia 1.3.0",
   "language": "julia",
   "name": "julia-1.3"
  },
  "language_info": {
   "file_extension": ".jl",
   "mimetype": "application/julia",
   "name": "julia",
   "version": "1.3.0"
  }
 },
 "nbformat": 4,
 "nbformat_minor": 2
}
